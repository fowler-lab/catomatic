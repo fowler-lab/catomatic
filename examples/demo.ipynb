{
 "cells": [
  {
   "cell_type": "code",
   "execution_count": 178,
   "metadata": {},
   "outputs": [
    {
     "name": "stdout",
     "output_type": "stream",
     "text": [
      "The autoreload extension is already loaded. To reload it, use:\n",
      "  %reload_ext autoreload\n"
     ]
    }
   ],
   "source": [
    "import piezo\n",
    "import pandas as pd\n",
    "from catomatic.CatalogueBuilder import BuildCatalogue\n",
    "\n",
    "%load_ext autoreload\n",
    "%autoreload 2"
   ]
  },
  {
   "cell_type": "markdown",
   "metadata": {},
   "source": [
    "This notebook demonstrates how to use catomatic, and its various functionalities - a number of non-trivial decisions need to be made depending on the data and context, which are covered here."
   ]
  },
  {
   "cell_type": "markdown",
   "metadata": {},
   "source": [
    "# Import mutations and samples tables"
   ]
  },
  {
   "cell_type": "code",
   "execution_count": 179,
   "metadata": {},
   "outputs": [
    {
     "data": {
      "text/html": [
       "<div>\n",
       "<style scoped>\n",
       "    .dataframe tbody tr th:only-of-type {\n",
       "        vertical-align: middle;\n",
       "    }\n",
       "\n",
       "    .dataframe tbody tr th {\n",
       "        vertical-align: top;\n",
       "    }\n",
       "\n",
       "    .dataframe thead th {\n",
       "        text-align: right;\n",
       "    }\n",
       "</style>\n",
       "<table border=\"1\" class=\"dataframe\">\n",
       "  <thead>\n",
       "    <tr style=\"text-align: right;\">\n",
       "      <th></th>\n",
       "      <th>UNIQUEID</th>\n",
       "      <th>MUTATION</th>\n",
       "      <th>FRS</th>\n",
       "    </tr>\n",
       "  </thead>\n",
       "  <tbody>\n",
       "    <tr>\n",
       "      <th>0</th>\n",
       "      <td>1</td>\n",
       "      <td>gene@A1S</td>\n",
       "      <td>0.73</td>\n",
       "    </tr>\n",
       "    <tr>\n",
       "      <th>1</th>\n",
       "      <td>2</td>\n",
       "      <td>gene@A1S</td>\n",
       "      <td>0.25</td>\n",
       "    </tr>\n",
       "    <tr>\n",
       "      <th>2</th>\n",
       "      <td>4</td>\n",
       "      <td>gene@A2S</td>\n",
       "      <td>0.40</td>\n",
       "    </tr>\n",
       "    <tr>\n",
       "      <th>3</th>\n",
       "      <td>7</td>\n",
       "      <td>gene@A3S</td>\n",
       "      <td>0.98</td>\n",
       "    </tr>\n",
       "    <tr>\n",
       "      <th>4</th>\n",
       "      <td>8</td>\n",
       "      <td>gene@A3S</td>\n",
       "      <td>0.90</td>\n",
       "    </tr>\n",
       "    <tr>\n",
       "      <th>5</th>\n",
       "      <td>9</td>\n",
       "      <td>gene@A3S</td>\n",
       "      <td>0.86</td>\n",
       "    </tr>\n",
       "  </tbody>\n",
       "</table>\n",
       "</div>"
      ],
      "text/plain": [
       "   UNIQUEID  MUTATION   FRS\n",
       "0         1  gene@A1S  0.73\n",
       "1         2  gene@A1S  0.25\n",
       "2         4  gene@A2S  0.40\n",
       "3         7  gene@A3S  0.98\n",
       "4         8  gene@A3S  0.90\n",
       "5         9  gene@A3S  0.86"
      ]
     },
     "execution_count": 179,
     "metadata": {},
     "output_type": "execute_result"
    }
   ],
   "source": [
    "mutations = pd.read_csv('../data/mutations.csv', index_col=0)\n",
    "mutations"
   ]
  },
  {
   "cell_type": "code",
   "execution_count": 180,
   "metadata": {},
   "outputs": [
    {
     "data": {
      "text/html": [
       "<div>\n",
       "<style scoped>\n",
       "    .dataframe tbody tr th:only-of-type {\n",
       "        vertical-align: middle;\n",
       "    }\n",
       "\n",
       "    .dataframe tbody tr th {\n",
       "        vertical-align: top;\n",
       "    }\n",
       "\n",
       "    .dataframe thead th {\n",
       "        text-align: right;\n",
       "    }\n",
       "</style>\n",
       "<table border=\"1\" class=\"dataframe\">\n",
       "  <thead>\n",
       "    <tr style=\"text-align: right;\">\n",
       "      <th></th>\n",
       "      <th>UNIQUEID</th>\n",
       "      <th>PHENOTYPE</th>\n",
       "    </tr>\n",
       "  </thead>\n",
       "  <tbody>\n",
       "    <tr>\n",
       "      <th>0</th>\n",
       "      <td>1</td>\n",
       "      <td>R</td>\n",
       "    </tr>\n",
       "    <tr>\n",
       "      <th>1</th>\n",
       "      <td>2</td>\n",
       "      <td>S</td>\n",
       "    </tr>\n",
       "    <tr>\n",
       "      <th>2</th>\n",
       "      <td>3</td>\n",
       "      <td>R</td>\n",
       "    </tr>\n",
       "    <tr>\n",
       "      <th>3</th>\n",
       "      <td>4</td>\n",
       "      <td>S</td>\n",
       "    </tr>\n",
       "    <tr>\n",
       "      <th>4</th>\n",
       "      <td>5</td>\n",
       "      <td>R</td>\n",
       "    </tr>\n",
       "    <tr>\n",
       "      <th>5</th>\n",
       "      <td>6</td>\n",
       "      <td>S</td>\n",
       "    </tr>\n",
       "    <tr>\n",
       "      <th>6</th>\n",
       "      <td>7</td>\n",
       "      <td>S</td>\n",
       "    </tr>\n",
       "    <tr>\n",
       "      <th>7</th>\n",
       "      <td>8</td>\n",
       "      <td>S</td>\n",
       "    </tr>\n",
       "    <tr>\n",
       "      <th>8</th>\n",
       "      <td>9</td>\n",
       "      <td>R</td>\n",
       "    </tr>\n",
       "    <tr>\n",
       "      <th>9</th>\n",
       "      <td>10</td>\n",
       "      <td>R</td>\n",
       "    </tr>\n",
       "  </tbody>\n",
       "</table>\n",
       "</div>"
      ],
      "text/plain": [
       "   UNIQUEID PHENOTYPE\n",
       "0         1         R\n",
       "1         2         S\n",
       "2         3         R\n",
       "3         4         S\n",
       "4         5         R\n",
       "5         6         S\n",
       "6         7         S\n",
       "7         8         S\n",
       "8         9         R\n",
       "9        10         R"
      ]
     },
     "execution_count": 180,
     "metadata": {},
     "output_type": "execute_result"
    }
   ],
   "source": [
    "samples = pd.read_csv('../data/samples.csv', index_col=0)\n",
    "samples"
   ]
  },
  {
   "cell_type": "markdown",
   "metadata": {},
   "source": [
    "# Build the catalogue"
   ]
  },
  {
   "cell_type": "code",
   "execution_count": 181,
   "metadata": {},
   "outputs": [],
   "source": [
    "catalogue = BuildCatalogue(samples=samples, mutations=mutations)"
   ]
  },
  {
   "cell_type": "markdown",
   "metadata": {},
   "source": [
    "Can return as a dictionary, where each key is a mutations:"
   ]
  },
  {
   "cell_type": "code",
   "execution_count": 182,
   "metadata": {},
   "outputs": [
    {
     "data": {
      "text/plain": [
       "{'gene@A2S': {'pred': 'S',\n",
       "  'evid': {'proportion': 0.0,\n",
       "   'confidence': (np.float64(0.0), np.float64(0.7934506856227626)),\n",
       "   'contingency': [[0, 1], [3, 1]]}},\n",
       " 'gene@A1S': {'pred': 'U',\n",
       "  'evid': {'proportion': 0.5,\n",
       "   'confidence': (np.float64(0.09453120573423071),\n",
       "    np.float64(0.9054687942657693)),\n",
       "   'contingency': [[1, 1], [3, 2]]}},\n",
       " 'gene@A3S': {'pred': 'U',\n",
       "  'evid': {'proportion': 0.3333333333333333,\n",
       "   'confidence': (np.float64(0.061491944720396215),\n",
       "    np.float64(0.7923403991979523)),\n",
       "   'contingency': [[1, 2], [3, 2]]}}}"
      ]
     },
     "execution_count": 182,
     "metadata": {},
     "output_type": "execute_result"
    }
   ],
   "source": [
    "catalogue.return_catalogue()"
   ]
  },
  {
   "cell_type": "markdown",
   "metadata": {},
   "source": [
    "Or can return as a piezo-structure dataframe:"
   ]
  },
  {
   "cell_type": "code",
   "execution_count": 183,
   "metadata": {},
   "outputs": [
    {
     "data": {
      "text/html": [
       "<div>\n",
       "<style scoped>\n",
       "    .dataframe tbody tr th:only-of-type {\n",
       "        vertical-align: middle;\n",
       "    }\n",
       "\n",
       "    .dataframe tbody tr th {\n",
       "        vertical-align: top;\n",
       "    }\n",
       "\n",
       "    .dataframe thead th {\n",
       "        text-align: right;\n",
       "    }\n",
       "</style>\n",
       "<table border=\"1\" class=\"dataframe\">\n",
       "  <thead>\n",
       "    <tr style=\"text-align: right;\">\n",
       "      <th></th>\n",
       "      <th>GENBANK_REFERENCE</th>\n",
       "      <th>CATALOGUE_NAME</th>\n",
       "      <th>CATALOGUE_VERSION</th>\n",
       "      <th>CATALOGUE_GRAMMAR</th>\n",
       "      <th>PREDICTION_VALUES</th>\n",
       "      <th>DRUG</th>\n",
       "      <th>MUTATION</th>\n",
       "      <th>PREDICTION</th>\n",
       "      <th>SOURCE</th>\n",
       "      <th>EVIDENCE</th>\n",
       "      <th>OTHER</th>\n",
       "    </tr>\n",
       "  </thead>\n",
       "  <tbody>\n",
       "    <tr>\n",
       "      <th>0</th>\n",
       "      <td>demo_gene</td>\n",
       "      <td>demo</td>\n",
       "      <td>0.1.1</td>\n",
       "      <td>GARC1</td>\n",
       "      <td>RUS</td>\n",
       "      <td>eg</td>\n",
       "      <td>gene@A2S</td>\n",
       "      <td>S</td>\n",
       "      <td>NaN</td>\n",
       "      <td>{'proportion': 0.0, 'confidence': (0.0, 0.7934...</td>\n",
       "      <td>NaN</td>\n",
       "    </tr>\n",
       "    <tr>\n",
       "      <th>3</th>\n",
       "      <td>demo_gene</td>\n",
       "      <td>demo</td>\n",
       "      <td>0.1.1</td>\n",
       "      <td>GARC1</td>\n",
       "      <td>RUS</td>\n",
       "      <td>eg</td>\n",
       "      <td>gene@*=</td>\n",
       "      <td>S</td>\n",
       "      <td>NaN</td>\n",
       "      <td>{'default_rule': 'True'}</td>\n",
       "      <td>NaN</td>\n",
       "    </tr>\n",
       "    <tr>\n",
       "      <th>1</th>\n",
       "      <td>demo_gene</td>\n",
       "      <td>demo</td>\n",
       "      <td>0.1.1</td>\n",
       "      <td>GARC1</td>\n",
       "      <td>RUS</td>\n",
       "      <td>eg</td>\n",
       "      <td>gene@A1S</td>\n",
       "      <td>U</td>\n",
       "      <td>NaN</td>\n",
       "      <td>{'proportion': 0.5, 'confidence': (0.094531205...</td>\n",
       "      <td>NaN</td>\n",
       "    </tr>\n",
       "    <tr>\n",
       "      <th>2</th>\n",
       "      <td>demo_gene</td>\n",
       "      <td>demo</td>\n",
       "      <td>0.1.1</td>\n",
       "      <td>GARC1</td>\n",
       "      <td>RUS</td>\n",
       "      <td>eg</td>\n",
       "      <td>gene@A3S</td>\n",
       "      <td>U</td>\n",
       "      <td>NaN</td>\n",
       "      <td>{'proportion': 0.3333333333333333, 'confidence...</td>\n",
       "      <td>NaN</td>\n",
       "    </tr>\n",
       "    <tr>\n",
       "      <th>4</th>\n",
       "      <td>demo_gene</td>\n",
       "      <td>demo</td>\n",
       "      <td>0.1.1</td>\n",
       "      <td>GARC1</td>\n",
       "      <td>RUS</td>\n",
       "      <td>eg</td>\n",
       "      <td>gene@-*_indel</td>\n",
       "      <td>U</td>\n",
       "      <td>NaN</td>\n",
       "      <td>{'default_rule': 'True'}</td>\n",
       "      <td>NaN</td>\n",
       "    </tr>\n",
       "    <tr>\n",
       "      <th>5</th>\n",
       "      <td>demo_gene</td>\n",
       "      <td>demo</td>\n",
       "      <td>0.1.1</td>\n",
       "      <td>GARC1</td>\n",
       "      <td>RUS</td>\n",
       "      <td>eg</td>\n",
       "      <td>gene@*_indel</td>\n",
       "      <td>U</td>\n",
       "      <td>NaN</td>\n",
       "      <td>{'default_rule': 'True'}</td>\n",
       "      <td>NaN</td>\n",
       "    </tr>\n",
       "    <tr>\n",
       "      <th>6</th>\n",
       "      <td>demo_gene</td>\n",
       "      <td>demo</td>\n",
       "      <td>0.1.1</td>\n",
       "      <td>GARC1</td>\n",
       "      <td>RUS</td>\n",
       "      <td>eg</td>\n",
       "      <td>gene@-*?</td>\n",
       "      <td>U</td>\n",
       "      <td>NaN</td>\n",
       "      <td>{'default_rule': 'True'}</td>\n",
       "      <td>NaN</td>\n",
       "    </tr>\n",
       "    <tr>\n",
       "      <th>7</th>\n",
       "      <td>demo_gene</td>\n",
       "      <td>demo</td>\n",
       "      <td>0.1.1</td>\n",
       "      <td>GARC1</td>\n",
       "      <td>RUS</td>\n",
       "      <td>eg</td>\n",
       "      <td>gene@*?</td>\n",
       "      <td>U</td>\n",
       "      <td>NaN</td>\n",
       "      <td>{'default_rule': 'True'}</td>\n",
       "      <td>NaN</td>\n",
       "    </tr>\n",
       "    <tr>\n",
       "      <th>8</th>\n",
       "      <td>demo_gene</td>\n",
       "      <td>demo</td>\n",
       "      <td>0.1.1</td>\n",
       "      <td>GARC1</td>\n",
       "      <td>RUS</td>\n",
       "      <td>eg</td>\n",
       "      <td>gene@del_0.0</td>\n",
       "      <td>U</td>\n",
       "      <td>NaN</td>\n",
       "      <td>{'default_rule': 'True'}</td>\n",
       "      <td>NaN</td>\n",
       "    </tr>\n",
       "  </tbody>\n",
       "</table>\n",
       "</div>"
      ],
      "text/plain": [
       "  GENBANK_REFERENCE CATALOGUE_NAME CATALOGUE_VERSION CATALOGUE_GRAMMAR  \\\n",
       "0         demo_gene           demo             0.1.1             GARC1   \n",
       "3         demo_gene           demo             0.1.1             GARC1   \n",
       "1         demo_gene           demo             0.1.1             GARC1   \n",
       "2         demo_gene           demo             0.1.1             GARC1   \n",
       "4         demo_gene           demo             0.1.1             GARC1   \n",
       "5         demo_gene           demo             0.1.1             GARC1   \n",
       "6         demo_gene           demo             0.1.1             GARC1   \n",
       "7         demo_gene           demo             0.1.1             GARC1   \n",
       "8         demo_gene           demo             0.1.1             GARC1   \n",
       "\n",
       "  PREDICTION_VALUES DRUG       MUTATION PREDICTION SOURCE  \\\n",
       "0               RUS   eg       gene@A2S          S    NaN   \n",
       "3               RUS   eg        gene@*=          S    NaN   \n",
       "1               RUS   eg       gene@A1S          U    NaN   \n",
       "2               RUS   eg       gene@A3S          U    NaN   \n",
       "4               RUS   eg  gene@-*_indel          U    NaN   \n",
       "5               RUS   eg   gene@*_indel          U    NaN   \n",
       "6               RUS   eg       gene@-*?          U    NaN   \n",
       "7               RUS   eg        gene@*?          U    NaN   \n",
       "8               RUS   eg   gene@del_0.0          U    NaN   \n",
       "\n",
       "                                            EVIDENCE OTHER  \n",
       "0  {'proportion': 0.0, 'confidence': (0.0, 0.7934...   NaN  \n",
       "3                           {'default_rule': 'True'}   NaN  \n",
       "1  {'proportion': 0.5, 'confidence': (0.094531205...   NaN  \n",
       "2  {'proportion': 0.3333333333333333, 'confidence...   NaN  \n",
       "4                           {'default_rule': 'True'}   NaN  \n",
       "5                           {'default_rule': 'True'}   NaN  \n",
       "6                           {'default_rule': 'True'}   NaN  \n",
       "7                           {'default_rule': 'True'}   NaN  \n",
       "8                           {'default_rule': 'True'}   NaN  "
      ]
     },
     "execution_count": 183,
     "metadata": {},
     "output_type": "execute_result"
    }
   ],
   "source": [
    "#note, wildcards can be supplied as a dictionary or path to json. for_piezo will add placeholder rows to avoid an issue with piezo (requires R+U+S)\n",
    "catalogue.build_piezo(genbank_ref='demo_gene', catalogue_name='demo', version='0.1.1', drug='eg', wildcards='../data/demo_wildcards.json', for_piezo=False)"
   ]
  },
  {
   "cell_type": "markdown",
   "metadata": {},
   "source": [
    "Or can call 'to_piezo' to directly save as a csv:"
   ]
  },
  {
   "cell_type": "code",
   "execution_count": 184,
   "metadata": {},
   "outputs": [],
   "source": [
    "catalogue.to_piezo(genbank_ref='demo_gene', catalogue_name='demo', version='0.1.1', drug='eg', wildcards='../data/demo_wildcards.json', outfile='./temp/demo_catalogue.csv')"
   ]
  },
  {
   "cell_type": "markdown",
   "metadata": {},
   "source": [
    "Piezo can then be used to make predictions:"
   ]
  },
  {
   "cell_type": "code",
   "execution_count": 185,
   "metadata": {},
   "outputs": [
    {
     "name": "stdout",
     "output_type": "stream",
     "text": [
      "prediction for mutation gene@A1S: {'eg': 'U'}\n",
      "prediction for mutation gene@A2S: {'eg': 'S'}\n"
     ]
    }
   ],
   "source": [
    "catalogue = piezo.ResistanceCatalogue(\"./temp/demo_catalogue.csv\")\n",
    "print ('prediction for mutation gene@A1S:', catalogue.predict('gene@A1S'))\n",
    "print ('prediction for mutation gene@A2S:', catalogue.predict('gene@A2S'))\n"
   ]
  },
  {
   "cell_type": "markdown",
   "metadata": {},
   "source": []
  },
  {
   "cell_type": "markdown",
   "metadata": {},
   "source": [
    "## Statistical Tests"
   ]
  },
  {
   "cell_type": "markdown",
   "metadata": {},
   "source": [
    "The default parameter for test type is `None`, which instantiates a protocol whereby susceptible mutations are defined as those with homogenously susceptible phenotypes at the level at which it is being classified - this facilitates the unlocking mechanism, however beyond that, no phenotyping is done."
   ]
  },
  {
   "cell_type": "markdown",
   "metadata": {},
   "source": [
    "To classify resistant variants, one can run a traditional binomial test on the proportion of resistance observed at that level against a user-defined background rate, by specifying `Binomial` and a background."
   ]
  },
  {
   "cell_type": "code",
   "execution_count": 186,
   "metadata": {},
   "outputs": [
    {
     "data": {
      "text/html": [
       "<div>\n",
       "<style scoped>\n",
       "    .dataframe tbody tr th:only-of-type {\n",
       "        vertical-align: middle;\n",
       "    }\n",
       "\n",
       "    .dataframe tbody tr th {\n",
       "        vertical-align: top;\n",
       "    }\n",
       "\n",
       "    .dataframe thead th {\n",
       "        text-align: right;\n",
       "    }\n",
       "</style>\n",
       "<table border=\"1\" class=\"dataframe\">\n",
       "  <thead>\n",
       "    <tr style=\"text-align: right;\">\n",
       "      <th></th>\n",
       "      <th>GENBANK_REFERENCE</th>\n",
       "      <th>CATALOGUE_NAME</th>\n",
       "      <th>CATALOGUE_VERSION</th>\n",
       "      <th>CATALOGUE_GRAMMAR</th>\n",
       "      <th>PREDICTION_VALUES</th>\n",
       "      <th>DRUG</th>\n",
       "      <th>MUTATION</th>\n",
       "      <th>PREDICTION</th>\n",
       "      <th>SOURCE</th>\n",
       "      <th>EVIDENCE</th>\n",
       "      <th>OTHER</th>\n",
       "    </tr>\n",
       "  </thead>\n",
       "  <tbody>\n",
       "    <tr>\n",
       "      <th>0</th>\n",
       "      <td>demo_gene</td>\n",
       "      <td>demo_binomial</td>\n",
       "      <td>0.1.1</td>\n",
       "      <td>GARC1</td>\n",
       "      <td>RUS</td>\n",
       "      <td>eg</td>\n",
       "      <td>gene@A2S</td>\n",
       "      <td>S</td>\n",
       "      <td>NaN</td>\n",
       "      <td>{'proportion': 0.0, 'confidence': (0.0, 0.7301...</td>\n",
       "      <td>NaN</td>\n",
       "    </tr>\n",
       "    <tr>\n",
       "      <th>3</th>\n",
       "      <td>demo_gene</td>\n",
       "      <td>demo_binomial</td>\n",
       "      <td>0.1.1</td>\n",
       "      <td>GARC1</td>\n",
       "      <td>RUS</td>\n",
       "      <td>eg</td>\n",
       "      <td>gene@*=</td>\n",
       "      <td>S</td>\n",
       "      <td>NaN</td>\n",
       "      <td>{'default_rule': 'True'}</td>\n",
       "      <td>NaN</td>\n",
       "    </tr>\n",
       "    <tr>\n",
       "      <th>1</th>\n",
       "      <td>demo_gene</td>\n",
       "      <td>demo_binomial</td>\n",
       "      <td>0.1.1</td>\n",
       "      <td>GARC1</td>\n",
       "      <td>RUS</td>\n",
       "      <td>eg</td>\n",
       "      <td>gene@A1S</td>\n",
       "      <td>R</td>\n",
       "      <td>NaN</td>\n",
       "      <td>{'proportion': 0.5, 'confidence': (0.120866319...</td>\n",
       "      <td>NaN</td>\n",
       "    </tr>\n",
       "    <tr>\n",
       "      <th>2</th>\n",
       "      <td>demo_gene</td>\n",
       "      <td>demo_binomial</td>\n",
       "      <td>0.1.1</td>\n",
       "      <td>GARC1</td>\n",
       "      <td>RUS</td>\n",
       "      <td>eg</td>\n",
       "      <td>gene@A3S</td>\n",
       "      <td>U</td>\n",
       "      <td>NaN</td>\n",
       "      <td>{'proportion': 0.3333333333333333, 'confidence...</td>\n",
       "      <td>NaN</td>\n",
       "    </tr>\n",
       "    <tr>\n",
       "      <th>4</th>\n",
       "      <td>demo_gene</td>\n",
       "      <td>demo_binomial</td>\n",
       "      <td>0.1.1</td>\n",
       "      <td>GARC1</td>\n",
       "      <td>RUS</td>\n",
       "      <td>eg</td>\n",
       "      <td>gene@-*_indel</td>\n",
       "      <td>U</td>\n",
       "      <td>NaN</td>\n",
       "      <td>{'default_rule': 'True'}</td>\n",
       "      <td>NaN</td>\n",
       "    </tr>\n",
       "    <tr>\n",
       "      <th>5</th>\n",
       "      <td>demo_gene</td>\n",
       "      <td>demo_binomial</td>\n",
       "      <td>0.1.1</td>\n",
       "      <td>GARC1</td>\n",
       "      <td>RUS</td>\n",
       "      <td>eg</td>\n",
       "      <td>gene@*_indel</td>\n",
       "      <td>U</td>\n",
       "      <td>NaN</td>\n",
       "      <td>{'default_rule': 'True'}</td>\n",
       "      <td>NaN</td>\n",
       "    </tr>\n",
       "    <tr>\n",
       "      <th>6</th>\n",
       "      <td>demo_gene</td>\n",
       "      <td>demo_binomial</td>\n",
       "      <td>0.1.1</td>\n",
       "      <td>GARC1</td>\n",
       "      <td>RUS</td>\n",
       "      <td>eg</td>\n",
       "      <td>gene@-*?</td>\n",
       "      <td>U</td>\n",
       "      <td>NaN</td>\n",
       "      <td>{'default_rule': 'True'}</td>\n",
       "      <td>NaN</td>\n",
       "    </tr>\n",
       "    <tr>\n",
       "      <th>7</th>\n",
       "      <td>demo_gene</td>\n",
       "      <td>demo_binomial</td>\n",
       "      <td>0.1.1</td>\n",
       "      <td>GARC1</td>\n",
       "      <td>RUS</td>\n",
       "      <td>eg</td>\n",
       "      <td>gene@*?</td>\n",
       "      <td>U</td>\n",
       "      <td>NaN</td>\n",
       "      <td>{'default_rule': 'True'}</td>\n",
       "      <td>NaN</td>\n",
       "    </tr>\n",
       "    <tr>\n",
       "      <th>8</th>\n",
       "      <td>demo_gene</td>\n",
       "      <td>demo_binomial</td>\n",
       "      <td>0.1.1</td>\n",
       "      <td>GARC1</td>\n",
       "      <td>RUS</td>\n",
       "      <td>eg</td>\n",
       "      <td>gene@del_0.0</td>\n",
       "      <td>U</td>\n",
       "      <td>NaN</td>\n",
       "      <td>{'default_rule': 'True'}</td>\n",
       "      <td>NaN</td>\n",
       "    </tr>\n",
       "  </tbody>\n",
       "</table>\n",
       "</div>"
      ],
      "text/plain": [
       "  GENBANK_REFERENCE CATALOGUE_NAME CATALOGUE_VERSION CATALOGUE_GRAMMAR  \\\n",
       "0         demo_gene  demo_binomial             0.1.1             GARC1   \n",
       "3         demo_gene  demo_binomial             0.1.1             GARC1   \n",
       "1         demo_gene  demo_binomial             0.1.1             GARC1   \n",
       "2         demo_gene  demo_binomial             0.1.1             GARC1   \n",
       "4         demo_gene  demo_binomial             0.1.1             GARC1   \n",
       "5         demo_gene  demo_binomial             0.1.1             GARC1   \n",
       "6         demo_gene  demo_binomial             0.1.1             GARC1   \n",
       "7         demo_gene  demo_binomial             0.1.1             GARC1   \n",
       "8         demo_gene  demo_binomial             0.1.1             GARC1   \n",
       "\n",
       "  PREDICTION_VALUES DRUG       MUTATION PREDICTION SOURCE  \\\n",
       "0               RUS   eg       gene@A2S          S    NaN   \n",
       "3               RUS   eg        gene@*=          S    NaN   \n",
       "1               RUS   eg       gene@A1S          R    NaN   \n",
       "2               RUS   eg       gene@A3S          U    NaN   \n",
       "4               RUS   eg  gene@-*_indel          U    NaN   \n",
       "5               RUS   eg   gene@*_indel          U    NaN   \n",
       "6               RUS   eg       gene@-*?          U    NaN   \n",
       "7               RUS   eg        gene@*?          U    NaN   \n",
       "8               RUS   eg   gene@del_0.0          U    NaN   \n",
       "\n",
       "                                            EVIDENCE OTHER  \n",
       "0  {'proportion': 0.0, 'confidence': (0.0, 0.7301...   NaN  \n",
       "3                           {'default_rule': 'True'}   NaN  \n",
       "1  {'proportion': 0.5, 'confidence': (0.120866319...   NaN  \n",
       "2  {'proportion': 0.3333333333333333, 'confidence...   NaN  \n",
       "4                           {'default_rule': 'True'}   NaN  \n",
       "5                           {'default_rule': 'True'}   NaN  \n",
       "6                           {'default_rule': 'True'}   NaN  \n",
       "7                           {'default_rule': 'True'}   NaN  \n",
       "8                           {'default_rule': 'True'}   NaN  "
      ]
     },
     "execution_count": 186,
     "metadata": {},
     "output_type": "execute_result"
    }
   ],
   "source": [
    "#run a binomial test with a background rate of 20% and a 90% 2-tailed confidence level (p=0.9) - notice R classification.\n",
    "catalogue = BuildCatalogue(samples=samples, mutations=mutations, test='Binomial', background=0.05, p=0.9)\n",
    "catalogue.build_piezo(genbank_ref='demo_gene', catalogue_name='demo_binomial', version='0.1.1', drug='eg', wildcards='../data/demo_wildcards.json')"
   ]
  },
  {
   "cell_type": "markdown",
   "metadata": {},
   "source": [
    "One can also run a Fisher's test against a calculated background rate from a contintengcy table by specifying test type `Fisher`. \n",
    "\n",
    "Backgrounds are defined as R or S phenotypes in the absence of that mutation or any mutations not yet classified as susceptible (ie, background = 'WT' phenotypes + classified S phenotypes). Essentially, the background proportion of resistance is that which we cannot logically explain and probably arises from error or missing information."
   ]
  },
  {
   "cell_type": "code",
   "execution_count": 187,
   "metadata": {},
   "outputs": [
    {
     "data": {
      "text/html": [
       "<div>\n",
       "<style scoped>\n",
       "    .dataframe tbody tr th:only-of-type {\n",
       "        vertical-align: middle;\n",
       "    }\n",
       "\n",
       "    .dataframe tbody tr th {\n",
       "        vertical-align: top;\n",
       "    }\n",
       "\n",
       "    .dataframe thead th {\n",
       "        text-align: right;\n",
       "    }\n",
       "</style>\n",
       "<table border=\"1\" class=\"dataframe\">\n",
       "  <thead>\n",
       "    <tr style=\"text-align: right;\">\n",
       "      <th></th>\n",
       "      <th>GENBANK_REFERENCE</th>\n",
       "      <th>CATALOGUE_NAME</th>\n",
       "      <th>CATALOGUE_VERSION</th>\n",
       "      <th>CATALOGUE_GRAMMAR</th>\n",
       "      <th>PREDICTION_VALUES</th>\n",
       "      <th>DRUG</th>\n",
       "      <th>MUTATION</th>\n",
       "      <th>PREDICTION</th>\n",
       "      <th>SOURCE</th>\n",
       "      <th>EVIDENCE</th>\n",
       "      <th>OTHER</th>\n",
       "    </tr>\n",
       "  </thead>\n",
       "  <tbody>\n",
       "    <tr>\n",
       "      <th>0</th>\n",
       "      <td>demo_gene</td>\n",
       "      <td>demo_fisher</td>\n",
       "      <td>0.1.1</td>\n",
       "      <td>GARC1</td>\n",
       "      <td>RUS</td>\n",
       "      <td>eg</td>\n",
       "      <td>gene@A2S</td>\n",
       "      <td>S</td>\n",
       "      <td>NaN</td>\n",
       "      <td>{'proportion': 0.0, 'confidence': (0.0, 0.0155...</td>\n",
       "      <td>NaN</td>\n",
       "    </tr>\n",
       "    <tr>\n",
       "      <th>1</th>\n",
       "      <td>demo_gene</td>\n",
       "      <td>demo_fisher</td>\n",
       "      <td>0.1.1</td>\n",
       "      <td>GARC1</td>\n",
       "      <td>RUS</td>\n",
       "      <td>eg</td>\n",
       "      <td>gene@A3S</td>\n",
       "      <td>S</td>\n",
       "      <td>NaN</td>\n",
       "      <td>{'proportion': 0.3333333333333333, 'confidence...</td>\n",
       "      <td>NaN</td>\n",
       "    </tr>\n",
       "    <tr>\n",
       "      <th>3</th>\n",
       "      <td>demo_gene</td>\n",
       "      <td>demo_fisher</td>\n",
       "      <td>0.1.1</td>\n",
       "      <td>GARC1</td>\n",
       "      <td>RUS</td>\n",
       "      <td>eg</td>\n",
       "      <td>gene@*=</td>\n",
       "      <td>S</td>\n",
       "      <td>NaN</td>\n",
       "      <td>{'default_rule': 'True'}</td>\n",
       "      <td>NaN</td>\n",
       "    </tr>\n",
       "    <tr>\n",
       "      <th>9</th>\n",
       "      <td>demo_gene</td>\n",
       "      <td>demo_fisher</td>\n",
       "      <td>0.1.1</td>\n",
       "      <td>GARC1</td>\n",
       "      <td>RUS</td>\n",
       "      <td>eg</td>\n",
       "      <td>placeholder@R1R</td>\n",
       "      <td>R</td>\n",
       "      <td>NaN</td>\n",
       "      <td>{}</td>\n",
       "      <td>NaN</td>\n",
       "    </tr>\n",
       "    <tr>\n",
       "      <th>2</th>\n",
       "      <td>demo_gene</td>\n",
       "      <td>demo_fisher</td>\n",
       "      <td>0.1.1</td>\n",
       "      <td>GARC1</td>\n",
       "      <td>RUS</td>\n",
       "      <td>eg</td>\n",
       "      <td>gene@A1S</td>\n",
       "      <td>U</td>\n",
       "      <td>NaN</td>\n",
       "      <td>{'proportion': 0.5, 'confidence': (0.455746361...</td>\n",
       "      <td>NaN</td>\n",
       "    </tr>\n",
       "    <tr>\n",
       "      <th>4</th>\n",
       "      <td>demo_gene</td>\n",
       "      <td>demo_fisher</td>\n",
       "      <td>0.1.1</td>\n",
       "      <td>GARC1</td>\n",
       "      <td>RUS</td>\n",
       "      <td>eg</td>\n",
       "      <td>gene@-*_indel</td>\n",
       "      <td>U</td>\n",
       "      <td>NaN</td>\n",
       "      <td>{'default_rule': 'True'}</td>\n",
       "      <td>NaN</td>\n",
       "    </tr>\n",
       "    <tr>\n",
       "      <th>5</th>\n",
       "      <td>demo_gene</td>\n",
       "      <td>demo_fisher</td>\n",
       "      <td>0.1.1</td>\n",
       "      <td>GARC1</td>\n",
       "      <td>RUS</td>\n",
       "      <td>eg</td>\n",
       "      <td>gene@*_indel</td>\n",
       "      <td>U</td>\n",
       "      <td>NaN</td>\n",
       "      <td>{'default_rule': 'True'}</td>\n",
       "      <td>NaN</td>\n",
       "    </tr>\n",
       "    <tr>\n",
       "      <th>6</th>\n",
       "      <td>demo_gene</td>\n",
       "      <td>demo_fisher</td>\n",
       "      <td>0.1.1</td>\n",
       "      <td>GARC1</td>\n",
       "      <td>RUS</td>\n",
       "      <td>eg</td>\n",
       "      <td>gene@-*?</td>\n",
       "      <td>U</td>\n",
       "      <td>NaN</td>\n",
       "      <td>{'default_rule': 'True'}</td>\n",
       "      <td>NaN</td>\n",
       "    </tr>\n",
       "    <tr>\n",
       "      <th>7</th>\n",
       "      <td>demo_gene</td>\n",
       "      <td>demo_fisher</td>\n",
       "      <td>0.1.1</td>\n",
       "      <td>GARC1</td>\n",
       "      <td>RUS</td>\n",
       "      <td>eg</td>\n",
       "      <td>gene@*?</td>\n",
       "      <td>U</td>\n",
       "      <td>NaN</td>\n",
       "      <td>{'default_rule': 'True'}</td>\n",
       "      <td>NaN</td>\n",
       "    </tr>\n",
       "    <tr>\n",
       "      <th>8</th>\n",
       "      <td>demo_gene</td>\n",
       "      <td>demo_fisher</td>\n",
       "      <td>0.1.1</td>\n",
       "      <td>GARC1</td>\n",
       "      <td>RUS</td>\n",
       "      <td>eg</td>\n",
       "      <td>gene@del_0.0</td>\n",
       "      <td>U</td>\n",
       "      <td>NaN</td>\n",
       "      <td>{'default_rule': 'True'}</td>\n",
       "      <td>NaN</td>\n",
       "    </tr>\n",
       "  </tbody>\n",
       "</table>\n",
       "</div>"
      ],
      "text/plain": [
       "  GENBANK_REFERENCE CATALOGUE_NAME CATALOGUE_VERSION CATALOGUE_GRAMMAR  \\\n",
       "0         demo_gene    demo_fisher             0.1.1             GARC1   \n",
       "1         demo_gene    demo_fisher             0.1.1             GARC1   \n",
       "3         demo_gene    demo_fisher             0.1.1             GARC1   \n",
       "9         demo_gene    demo_fisher             0.1.1             GARC1   \n",
       "2         demo_gene    demo_fisher             0.1.1             GARC1   \n",
       "4         demo_gene    demo_fisher             0.1.1             GARC1   \n",
       "5         demo_gene    demo_fisher             0.1.1             GARC1   \n",
       "6         demo_gene    demo_fisher             0.1.1             GARC1   \n",
       "7         demo_gene    demo_fisher             0.1.1             GARC1   \n",
       "8         demo_gene    demo_fisher             0.1.1             GARC1   \n",
       "\n",
       "  PREDICTION_VALUES DRUG         MUTATION PREDICTION SOURCE  \\\n",
       "0               RUS   eg         gene@A2S          S    NaN   \n",
       "1               RUS   eg         gene@A3S          S    NaN   \n",
       "3               RUS   eg          gene@*=          S    NaN   \n",
       "9               RUS   eg  placeholder@R1R          R    NaN   \n",
       "2               RUS   eg         gene@A1S          U    NaN   \n",
       "4               RUS   eg    gene@-*_indel          U    NaN   \n",
       "5               RUS   eg     gene@*_indel          U    NaN   \n",
       "6               RUS   eg         gene@-*?          U    NaN   \n",
       "7               RUS   eg          gene@*?          U    NaN   \n",
       "8               RUS   eg     gene@del_0.0          U    NaN   \n",
       "\n",
       "                                            EVIDENCE OTHER  \n",
       "0  {'proportion': 0.0, 'confidence': (0.0, 0.0155...   NaN  \n",
       "1  {'proportion': 0.3333333333333333, 'confidence...   NaN  \n",
       "3                           {'default_rule': 'True'}   NaN  \n",
       "9                                                 {}   NaN  \n",
       "2  {'proportion': 0.5, 'confidence': (0.455746361...   NaN  \n",
       "4                           {'default_rule': 'True'}   NaN  \n",
       "5                           {'default_rule': 'True'}   NaN  \n",
       "6                           {'default_rule': 'True'}   NaN  \n",
       "7                           {'default_rule': 'True'}   NaN  \n",
       "8                           {'default_rule': 'True'}   NaN  "
      ]
     },
     "execution_count": 187,
     "metadata": {},
     "output_type": "execute_result"
    }
   ],
   "source": [
    "#run a Fisher test at 10% 2-tailed confidence level (p=0.1) - notice the S classification in the second row (a crazy p-value, I realise - for demonstration). \n",
    "catalogue = BuildCatalogue(samples=samples, mutations=mutations, test='Fisher', p=0.1)\n",
    "catalogue.build_piezo(genbank_ref='demo_gene', catalogue_name='demo_fisher', version='0.1.1', drug='eg', wildcards='../data/demo_wildcards.json')"
   ]
  },
  {
   "cell_type": "markdown",
   "metadata": {},
   "source": [
    " This is particularly powerful if a meaningful background rate can actually be calculated - ie one that represents sample phenotyping error + labelling error + unexplainable resistance mechanisms etc.\n",
    "\n",
    " However, in practise often they don't actually represent anything, and an assumed error rate is needed.\n",
    "\n",
    " Furthemore, clean and accurate datasets for drugs with well-defined resistance mechanisms will have very low background rates, which when using a Fisher's test can lead to Resistant classifications at very low proportions (like 5%). This can be unhelpful, and there are 2 ways to overcome this. Firstly, one can raise the p-value to increase statistical stringency, or one can use a binomial test with a higher, defined background."
   ]
  },
  {
   "cell_type": "markdown",
   "metadata": {},
   "source": [
    "## Seeding"
   ]
  },
  {
   "cell_type": "markdown",
   "metadata": {},
   "source": [
    "A number of genes contain phylogeneitc, neutral mutations which have persisted for a considerable length of time and are largely assumed to not influence the resistant phenotype (e.g: https://genomemedicine.biomedcentral.com/articles/10.1186/s13073-020-00726-5).\n",
    "\n",
    "Due to the high prevelance of these mutations, and the fact the algorithm uses variants that occur in isolation to search for resistance-drivers, they ultimately just add noise.\n",
    "\n",
    "Therefore, catomatic allows for seeding, whereby pre-defined neutral variants can be added prior to running the algorithm:"
   ]
  },
  {
   "cell_type": "code",
   "execution_count": 188,
   "metadata": {},
   "outputs": [
    {
     "name": "stderr",
     "output_type": "stream",
     "text": [
      "/Users/dylanadlard/miniforge3/envs/catomatic_release/lib/python3.13/site-packages/catomatic/defence.py:53: UserWarning: Not all seeds are represented in mutations table, are you sure the grammar is correct?\n",
      "  soft_assert(\n"
     ]
    },
    {
     "data": {
      "text/plain": [
       "{'gene@A5D': {'pred': 'S', 'evid': {'seeded': 'True'}},\n",
       " 'gene@A6T': {'pred': 'S', 'evid': {'seeded': 'True'}},\n",
       " 'gene@A2S': {'pred': 'S',\n",
       "  'evid': {'proportion': 0.0,\n",
       "   'confidence': (np.float64(0.0), np.float64(0.7934506856227626)),\n",
       "   'contingency': [[0, 1], [3, 1]]}},\n",
       " 'gene@A1S': {'pred': 'U',\n",
       "  'evid': {'proportion': 0.5,\n",
       "   'confidence': (np.float64(0.09453120573423071),\n",
       "    np.float64(0.9054687942657693)),\n",
       "   'contingency': [[1, 1], [3, 2]]}},\n",
       " 'gene@A3S': {'pred': 'U',\n",
       "  'evid': {'proportion': 0.3333333333333333,\n",
       "   'confidence': (np.float64(0.061491944720396215),\n",
       "    np.float64(0.7923403991979523)),\n",
       "   'contingency': [[1, 2], [3, 2]]}}}"
      ]
     },
     "execution_count": 188,
     "metadata": {},
     "output_type": "execute_result"
    }
   ],
   "source": [
    "#seed the method with gene@A5D and gene@A6T\n",
    "catalogue = BuildCatalogue(samples=samples, mutations=mutations, seed=['gene@A5D', 'gene@A6T'])\n",
    "catalogue.return_catalogue()"
   ]
  },
  {
   "cell_type": "markdown",
   "metadata": {},
   "source": [
    "## Fraction Read Support"
   ]
  },
  {
   "cell_type": "markdown",
   "metadata": {},
   "source": [
    "Post-sequencing bioinformatics pipelines often contain steps to reduce sequencing error. One such step implements a filter for the fraction of genetic reads that support a particular variant call at that position. \n",
    "\n",
    "However, certain genes can display heterogenous alleles which, should they contain a resistant mutation, can outcompete majority populations under the selection pressure of drug administration, regardless of how few observed reads support that allele. \n",
    "\n",
    "Catomatic therefore supports FRS thresholding, whereby only variants with read support above a user-supplied threshold are considered:"
   ]
  },
  {
   "cell_type": "code",
   "execution_count": 189,
   "metadata": {},
   "outputs": [
    {
     "data": {
      "text/html": [
       "<div>\n",
       "<style scoped>\n",
       "    .dataframe tbody tr th:only-of-type {\n",
       "        vertical-align: middle;\n",
       "    }\n",
       "\n",
       "    .dataframe tbody tr th {\n",
       "        vertical-align: top;\n",
       "    }\n",
       "\n",
       "    .dataframe thead th {\n",
       "        text-align: right;\n",
       "    }\n",
       "</style>\n",
       "<table border=\"1\" class=\"dataframe\">\n",
       "  <thead>\n",
       "    <tr style=\"text-align: right;\">\n",
       "      <th></th>\n",
       "      <th>GENBANK_REFERENCE</th>\n",
       "      <th>CATALOGUE_NAME</th>\n",
       "      <th>CATALOGUE_VERSION</th>\n",
       "      <th>CATALOGUE_GRAMMAR</th>\n",
       "      <th>PREDICTION_VALUES</th>\n",
       "      <th>DRUG</th>\n",
       "      <th>MUTATION</th>\n",
       "      <th>PREDICTION</th>\n",
       "      <th>SOURCE</th>\n",
       "      <th>EVIDENCE</th>\n",
       "      <th>OTHER</th>\n",
       "    </tr>\n",
       "  </thead>\n",
       "  <tbody>\n",
       "    <tr>\n",
       "      <th>0</th>\n",
       "      <td>demo_gene</td>\n",
       "      <td>demo_binomial</td>\n",
       "      <td>0.1.1</td>\n",
       "      <td>GARC1</td>\n",
       "      <td>RUS</td>\n",
       "      <td>eg</td>\n",
       "      <td>gene@A3S</td>\n",
       "      <td>S</td>\n",
       "      <td>NaN</td>\n",
       "      <td>{'proportion': 0.0, 'confidence': (0.0, 0.5749...</td>\n",
       "      <td>NaN</td>\n",
       "    </tr>\n",
       "    <tr>\n",
       "      <th>1</th>\n",
       "      <td>demo_gene</td>\n",
       "      <td>demo_binomial</td>\n",
       "      <td>0.1.1</td>\n",
       "      <td>GARC1</td>\n",
       "      <td>RUS</td>\n",
       "      <td>eg</td>\n",
       "      <td>gene@*=</td>\n",
       "      <td>S</td>\n",
       "      <td>NaN</td>\n",
       "      <td>{'default_rule': 'True'}</td>\n",
       "      <td>NaN</td>\n",
       "    </tr>\n",
       "    <tr>\n",
       "      <th>7</th>\n",
       "      <td>demo_gene</td>\n",
       "      <td>demo_binomial</td>\n",
       "      <td>0.1.1</td>\n",
       "      <td>GARC1</td>\n",
       "      <td>RUS</td>\n",
       "      <td>eg</td>\n",
       "      <td>placeholder@R1R</td>\n",
       "      <td>R</td>\n",
       "      <td>NaN</td>\n",
       "      <td>{}</td>\n",
       "      <td>NaN</td>\n",
       "    </tr>\n",
       "    <tr>\n",
       "      <th>2</th>\n",
       "      <td>demo_gene</td>\n",
       "      <td>demo_binomial</td>\n",
       "      <td>0.1.1</td>\n",
       "      <td>GARC1</td>\n",
       "      <td>RUS</td>\n",
       "      <td>eg</td>\n",
       "      <td>gene@-*_indel</td>\n",
       "      <td>U</td>\n",
       "      <td>NaN</td>\n",
       "      <td>{'default_rule': 'True'}</td>\n",
       "      <td>NaN</td>\n",
       "    </tr>\n",
       "    <tr>\n",
       "      <th>3</th>\n",
       "      <td>demo_gene</td>\n",
       "      <td>demo_binomial</td>\n",
       "      <td>0.1.1</td>\n",
       "      <td>GARC1</td>\n",
       "      <td>RUS</td>\n",
       "      <td>eg</td>\n",
       "      <td>gene@*_indel</td>\n",
       "      <td>U</td>\n",
       "      <td>NaN</td>\n",
       "      <td>{'default_rule': 'True'}</td>\n",
       "      <td>NaN</td>\n",
       "    </tr>\n",
       "    <tr>\n",
       "      <th>4</th>\n",
       "      <td>demo_gene</td>\n",
       "      <td>demo_binomial</td>\n",
       "      <td>0.1.1</td>\n",
       "      <td>GARC1</td>\n",
       "      <td>RUS</td>\n",
       "      <td>eg</td>\n",
       "      <td>gene@-*?</td>\n",
       "      <td>U</td>\n",
       "      <td>NaN</td>\n",
       "      <td>{'default_rule': 'True'}</td>\n",
       "      <td>NaN</td>\n",
       "    </tr>\n",
       "    <tr>\n",
       "      <th>5</th>\n",
       "      <td>demo_gene</td>\n",
       "      <td>demo_binomial</td>\n",
       "      <td>0.1.1</td>\n",
       "      <td>GARC1</td>\n",
       "      <td>RUS</td>\n",
       "      <td>eg</td>\n",
       "      <td>gene@*?</td>\n",
       "      <td>U</td>\n",
       "      <td>NaN</td>\n",
       "      <td>{'default_rule': 'True'}</td>\n",
       "      <td>NaN</td>\n",
       "    </tr>\n",
       "    <tr>\n",
       "      <th>6</th>\n",
       "      <td>demo_gene</td>\n",
       "      <td>demo_binomial</td>\n",
       "      <td>0.1.1</td>\n",
       "      <td>GARC1</td>\n",
       "      <td>RUS</td>\n",
       "      <td>eg</td>\n",
       "      <td>gene@del_0.0</td>\n",
       "      <td>U</td>\n",
       "      <td>NaN</td>\n",
       "      <td>{'default_rule': 'True'}</td>\n",
       "      <td>NaN</td>\n",
       "    </tr>\n",
       "  </tbody>\n",
       "</table>\n",
       "</div>"
      ],
      "text/plain": [
       "  GENBANK_REFERENCE CATALOGUE_NAME CATALOGUE_VERSION CATALOGUE_GRAMMAR  \\\n",
       "0         demo_gene  demo_binomial             0.1.1             GARC1   \n",
       "1         demo_gene  demo_binomial             0.1.1             GARC1   \n",
       "7         demo_gene  demo_binomial             0.1.1             GARC1   \n",
       "2         demo_gene  demo_binomial             0.1.1             GARC1   \n",
       "3         demo_gene  demo_binomial             0.1.1             GARC1   \n",
       "4         demo_gene  demo_binomial             0.1.1             GARC1   \n",
       "5         demo_gene  demo_binomial             0.1.1             GARC1   \n",
       "6         demo_gene  demo_binomial             0.1.1             GARC1   \n",
       "\n",
       "  PREDICTION_VALUES DRUG         MUTATION PREDICTION SOURCE  \\\n",
       "0               RUS   eg         gene@A3S          S    NaN   \n",
       "1               RUS   eg          gene@*=          S    NaN   \n",
       "7               RUS   eg  placeholder@R1R          R    NaN   \n",
       "2               RUS   eg    gene@-*_indel          U    NaN   \n",
       "3               RUS   eg     gene@*_indel          U    NaN   \n",
       "4               RUS   eg         gene@-*?          U    NaN   \n",
       "5               RUS   eg          gene@*?          U    NaN   \n",
       "6               RUS   eg     gene@del_0.0          U    NaN   \n",
       "\n",
       "                                            EVIDENCE OTHER  \n",
       "0  {'proportion': 0.0, 'confidence': (0.0, 0.5749...   NaN  \n",
       "1                           {'default_rule': 'True'}   NaN  \n",
       "7                                                 {}   NaN  \n",
       "2                           {'default_rule': 'True'}   NaN  \n",
       "3                           {'default_rule': 'True'}   NaN  \n",
       "4                           {'default_rule': 'True'}   NaN  \n",
       "5                           {'default_rule': 'True'}   NaN  \n",
       "6                           {'default_rule': 'True'}   NaN  "
      ]
     },
     "execution_count": 189,
     "metadata": {},
     "output_type": "execute_result"
    }
   ],
   "source": [
    "#Build a catalogue for variants which contained over 90% read support - ie, genetic homogeneity - notice only gene@A3S is catalogued\n",
    "catalogue = BuildCatalogue(samples=samples, mutations=mutations, test='Binomial', background=0.05, p=0.9, FRS=0.9)\n",
    "catalogue.build_piezo(genbank_ref='demo_gene', catalogue_name='demo_binomial', version='0.1.1', drug='eg', wildcards='../data/demo_wildcards.json')"
   ]
  },
  {
   "cell_type": "markdown",
   "metadata": {},
   "source": [
    "## Strict S variant Unlocking"
   ]
  },
  {
   "cell_type": "markdown",
   "metadata": {},
   "source": [
    "If one were to phenotype based only on statistically significant resistance proportions, one should specify `strict_unlock=True`. This setting constrains the susceptible variant search step to require a calculated p-value less than the specified threshold.\n",
    "\n",
    "However, in practice, many variants from clinical studies are observed infrequently. If `strict_unlock=True` is set, all singletons and many low-frequency variants would be discarded due to frequentist statistics requiring a minimum number of observations to achieve sufficient statistical power. This requirement ensures that the statistical tests are robust and the results are reliable, but it also means that variants with low observation numbers are often excluded from analysis.\n",
    "\n",
    "One may, therefore, decide to use a looser definition of 'difference' and accept calling variants susceptible if there is no observed evidence of resistance and no statistical evidence of resistance. Essentially, setting `strict_unlock=False` allows homogenous susceptible (S) variants to be called susceptible (S), regardless of the total number of variant observations."
   ]
  },
  {
   "cell_type": "code",
   "execution_count": 190,
   "metadata": {},
   "outputs": [
    {
     "data": {
      "text/plain": [
       "{'gene@A2S': {'pred': 'S',\n",
       "  'evid': {'proportion': 0.0,\n",
       "   'confidence': (np.float64(0.0), np.float64(0.7934506856227626)),\n",
       "   'p_value': np.float64(0.4000000000000001),\n",
       "   'contingency': [[0, 1], [3, 1]]}},\n",
       " 'gene@A1S': {'pred': 'U',\n",
       "  'evid': {'proportion': 0.5,\n",
       "   'confidence': (np.float64(0.09453120573423071),\n",
       "    np.float64(0.9054687942657693)),\n",
       "   'p_value': 1.0,\n",
       "   'contingency': [[1, 1], [3, 2]]}},\n",
       " 'gene@A3S': {'pred': 'U',\n",
       "  'evid': {'proportion': 0.3333333333333333,\n",
       "   'confidence': (np.float64(0.061491944720396215),\n",
       "    np.float64(0.7923403991979523)),\n",
       "   'p_value': 1.0,\n",
       "   'contingency': [[1, 2], [3, 2]]}}}"
      ]
     },
     "execution_count": 190,
     "metadata": {},
     "output_type": "execute_result"
    }
   ],
   "source": [
    "#notice gene@A2S is called susceptible....\n",
    "catalogue = BuildCatalogue(samples=samples, mutations=mutations, test='Fisher', strict_unlock=False)\n",
    "catalogue.return_catalogue()"
   ]
  },
  {
   "cell_type": "code",
   "execution_count": 191,
   "metadata": {},
   "outputs": [
    {
     "data": {
      "text/plain": [
       "{'gene@A1S': {'pred': 'U',\n",
       "  'evid': {'proportion': 0.5,\n",
       "   'confidence': (np.float64(0.09453120573423071),\n",
       "    np.float64(0.9054687942657693)),\n",
       "   'p_value': 1.0,\n",
       "   'contingency': [[1, 1], [3, 1]]}},\n",
       " 'gene@A2S': {'pred': 'U',\n",
       "  'evid': {'proportion': 0.0,\n",
       "   'confidence': (np.float64(0.0), np.float64(0.7934506856227626)),\n",
       "   'p_value': np.float64(0.4000000000000001),\n",
       "   'contingency': [[0, 1], [3, 1]]}},\n",
       " 'gene@A3S': {'pred': 'U',\n",
       "  'evid': {'proportion': 0.3333333333333333,\n",
       "   'confidence': (np.float64(0.061491944720396215),\n",
       "    np.float64(0.7923403991979523)),\n",
       "   'p_value': np.float64(0.48571428571428565),\n",
       "   'contingency': [[1, 2], [3, 1]]}}}"
      ]
     },
     "execution_count": 191,
     "metadata": {},
     "output_type": "execute_result"
    }
   ],
   "source": [
    "#... but now does not pass the statistical requirement for phenotyping\n",
    "catalogue = BuildCatalogue(samples=samples, mutations=mutations, test='Fisher', strict_unlock=True)\n",
    "catalogue.return_catalogue()"
   ]
  },
  {
   "cell_type": "markdown",
   "metadata": {},
   "source": [
    "## post-hoc updates"
   ]
  },
  {
   "cell_type": "markdown",
   "metadata": {},
   "source": [
    "Should one wish to overried a variant call in the catalogue, it can be done by simply supplying a key-value pair of the mutation:phenotype, which replace the current row in the catalogue.\n",
    "\n",
    "This level of blatent expert-intervention is old-fashioned and strongly discouraged, and could probably be avoided via tuning the various parameters above, and certainly warrants an investigation as to why that variant is being phenotyped incorreclty (which can be partly deduced by the evidence logged in that row).\n",
    "\n"
   ]
  },
  {
   "cell_type": "code",
   "execution_count": 192,
   "metadata": {},
   "outputs": [
    {
     "data": {
      "text/plain": [
       "{'gene@A2S': {'pred': 'S',\n",
       "  'evid': {'proportion': 0.0,\n",
       "   'confidence': (np.float64(0.0), np.float64(0.7934506856227626)),\n",
       "   'contingency': [[0, 1], [3, 1]]}},\n",
       " 'gene@A1S': {'pred': 'U',\n",
       "  'evid': {'proportion': 0.5,\n",
       "   'confidence': (np.float64(0.09453120573423071),\n",
       "    np.float64(0.9054687942657693)),\n",
       "   'contingency': [[1, 1], [3, 2]]}},\n",
       " 'gene@A3S': {'pred': 'U',\n",
       "  'evid': {'proportion': 0.3333333333333333,\n",
       "   'confidence': (np.float64(0.061491944720396215),\n",
       "    np.float64(0.7923403991979523)),\n",
       "   'contingency': [[1, 2], [3, 2]]}}}"
      ]
     },
     "execution_count": 192,
     "metadata": {},
     "output_type": "execute_result"
    }
   ],
   "source": [
    "catalogue = BuildCatalogue(samples=samples, mutations=mutations)\n",
    "catalogue.return_catalogue()"
   ]
  },
  {
   "cell_type": "code",
   "execution_count": 193,
   "metadata": {},
   "outputs": [
    {
     "data": {
      "text/plain": [
       "{'gene@A1S': {'pred': 'U',\n",
       "  'evid': {'proportion': 0.5,\n",
       "   'confidence': (np.float64(0.09453120573423071),\n",
       "    np.float64(0.9054687942657693)),\n",
       "   'contingency': [[1, 1], [3, 2]]}},\n",
       " 'gene@A3S': {'pred': 'U',\n",
       "  'evid': {'proportion': 0.3333333333333333,\n",
       "   'confidence': (np.float64(0.061491944720396215),\n",
       "    np.float64(0.7923403991979523)),\n",
       "   'contingency': [[1, 2], [3, 2]]}},\n",
       " 'gene@A2S': {'pred': 'R', 'evid': {}}}"
      ]
     },
     "execution_count": 193,
     "metadata": {},
     "output_type": "execute_result"
    }
   ],
   "source": [
    "catalogue.update({'gene@A2S':'R'})\n",
    "catalogue.return_catalogue()"
   ]
  },
  {
   "cell_type": "markdown",
   "metadata": {},
   "source": [
    "One can also add wildcard rules to the catalogue - for example, if there is evidence that all frameshift mutations are resistant (as is sometimes the case in non-essential genes).\n",
    "\n",
    "Simply appending it would result in a piezo-facilitated hierarchy during the piezo predictions, whereby more specific mutation definitions have priority over wildcard rules. Therefore, one could add the rule and any specific mutations that do not agree will be called seperately."
   ]
  },
  {
   "cell_type": "code",
   "execution_count": 194,
   "metadata": {},
   "outputs": [
    {
     "data": {
      "text/plain": [
       "{'gene@A1S': {'pred': 'U',\n",
       "  'evid': {'proportion': 0.5,\n",
       "   'confidence': (np.float64(0.09453120573423071),\n",
       "    np.float64(0.9054687942657693)),\n",
       "   'contingency': [[1, 1], [3, 2]]}},\n",
       " 'gene@A3S': {'pred': 'U',\n",
       "  'evid': {'proportion': 0.3333333333333333,\n",
       "   'confidence': (np.float64(0.061491944720396215),\n",
       "    np.float64(0.7923403991979523)),\n",
       "   'contingency': [[1, 2], [3, 2]]}},\n",
       " 'gene@A2S': {'pred': 'R', 'evid': {}},\n",
       " 'gene@*?': {'pred': 'R', 'evid': {}}}"
      ]
     },
     "execution_count": 194,
     "metadata": {},
     "output_type": "execute_result"
    }
   ],
   "source": [
    "#notice the rule is simply appended, and will have lower priority than the more specific rows above\n",
    "catalogue.update({'gene@*?':'R'})\n",
    "catalogue.return_catalogue()"
   ]
  },
  {
   "cell_type": "markdown",
   "metadata": {},
   "source": [
    "Alternatively, one can specify `replace=True`, which will find all variants that fall under that rule and remove them before appending the rule. Note, because the search mechanism uses piezo, a set of wildcards have to be supplied (even though they won't be added to the catalogue.)"
   ]
  },
  {
   "cell_type": "code",
   "execution_count": 195,
   "metadata": {},
   "outputs": [
    {
     "data": {
      "text/plain": [
       "{'gene@*?': {'pred': 'R', 'evid': {}}}"
      ]
     },
     "execution_count": 195,
     "metadata": {},
     "output_type": "execute_result"
    }
   ],
   "source": [
    "#add a wildcard rule with replacement - all example variants fall under this rule, so are replaced\n",
    "catalogue = BuildCatalogue(samples=samples, mutations=mutations)\n",
    "catalogue.update({'gene@*?':'R'}, replace=True, wildcards='../data/demo_wildcards.json')\n",
    "catalogue.return_catalogue()"
   ]
  },
  {
   "cell_type": "code",
   "execution_count": null,
   "metadata": {},
   "outputs": [],
   "source": []
  },
  {
   "cell_type": "markdown",
   "metadata": {},
   "source": [
    "# Ecoff Generator"
   ]
  },
  {
   "cell_type": "code",
   "execution_count": 196,
   "metadata": {},
   "outputs": [],
   "source": [
    "import pandas as pd\n",
    "from catomatic.Ecoff import GenerateEcoff\n",
    "import utils"
   ]
  },
  {
   "cell_type": "code",
   "execution_count": 197,
   "metadata": {},
   "outputs": [],
   "source": [
    "def filter_multiple_phenos(group):\n",
    "    #for samples with more than one phenotypes, picks one\n",
    "    if len(group) == 1:\n",
    "        return group\n",
    "    prioritized_group = (\n",
    "        group[group['PHENOTYPE'] == \"R\"] if \"R\" in group['PHENOTYPE'].values else group\n",
    "    )\n",
    "    with_mic = prioritized_group.dropna(subset=['METHOD_MIC'])\n",
    "    return with_mic.iloc[0:1] if not with_mic.empty else prioritized_group.iloc[0:1]"
   ]
  },
  {
   "cell_type": "code",
   "execution_count": null,
   "metadata": {},
   "outputs": [],
   "source": []
  },
  {
   "cell_type": "markdown",
   "metadata": {},
   "source": [
    "### Data Prep\n",
    "\n",
    "We need enough samples to generate a distribution for the demo, but these tables are not in the repo - however there are few enough steps that one should be able to get the gist quite easily.\n",
    "\n",
    "Essentially, we import phenotypes and mutations tables, and supply them to `catomatic.GenerateEcoff`, which under the hood does a left merge on sample id (which will preserve wild type samples). A curve is then fitted to the sample MICs (assumed gaussian), and the 99th percentile is taken to be the ECOFF."
   ]
  },
  {
   "cell_type": "code",
   "execution_count": 198,
   "metadata": {},
   "outputs": [
    {
     "name": "stderr",
     "output_type": "stream",
     "text": [
      "/var/folders/s5/pshvb2093574r5hqnwcy6klw0000gn/T/ipykernel_73911/1277871492.py:7: DeprecationWarning: DataFrameGroupBy.apply operated on the grouping columns. This behavior is deprecated, and in a future version of pandas the grouping columns will be excluded from the operation. Either pass `include_groups=False` to exclude the groupings or explicitly select the grouping columns after groupby to silence this warning.\n",
      "  phenotypes = phenotypes.groupby(\"UNIQUEID\").apply(filter_multiple_phenos).reset_index(drop=True)\n"
     ]
    }
   ],
   "source": [
    "mutations = pd.read_csv('../data/ignore/MUTATIONS_BDQ.csv.gz').reset_index()\n",
    "genomes = pd.read_pickle('../data/ignore/GENOMES.pkl.gz').reset_index()\n",
    "phenotypes = pd.read_csv('../data/ignore/DST_MEASUREMENTS_BDQ_CRYPTIC.csv.gz').reset_index()\n",
    "\n",
    "phenotypes= phenotypes[phenotypes.METHOD_3.isin(['UKMYC5','UKMYC6'])]\n",
    "phenotypes = phenotypes[phenotypes.QUALITY=='HIGH']\n",
    "phenotypes = phenotypes.groupby(\"UNIQUEID\").apply(filter_multiple_phenos).reset_index(drop=True)\n",
    "\n",
    "samples = pd.merge(phenotypes, genomes, how='inner', on=['UNIQUEID'])[[\"UNIQUEID\", \"DRUG\", \"SOURCE\", \"METHOD_3\", \"PHENOTYPE\", \"METHOD_MIC\", \"METHOD_2\"]].rename(columns={'METHOD_MIC':'MIC'})\n",
    "\n",
    "mutations = mutations[~mutations.GENE.isin(['mmpL5', 'mmpS5'])]"
   ]
  },
  {
   "cell_type": "markdown",
   "metadata": {},
   "source": [
    "Feed the phenotypes and mutations table to the ecoff generator. Can use censored data or uncesnored (but if uncensored, need to provide a number of assumed dilutions on either tail)."
   ]
  },
  {
   "cell_type": "code",
   "execution_count": 199,
   "metadata": {},
   "outputs": [
    {
     "name": "stdout",
     "output_type": "stream",
     "text": [
      "ECOFF: 0.1201333269644187\n"
     ]
    }
   ],
   "source": [
    "init_obj = GenerateEcoff(samples, mutations, censored=True, tail_dilutions=3)\n",
    "ecoff, z_99, mu, sigma_hat, model = init_obj.generate()\n",
    "print ('ECOFF:', ecoff)"
   ]
  },
  {
   "cell_type": "code",
   "execution_count": 200,
   "metadata": {},
   "outputs": [
    {
     "name": "stderr",
     "output_type": "stream",
     "text": [
      "/Users/dylanadlard/Documents/Oxford/PhD/Projects/catomatic/examples/utils.py:40: RuntimeWarning: divide by zero encountered in scalar divide\n",
      "  wt_densities = [count / (total_wt * width) for count, width in zip(wt_mic_counts, wt_widths)]\n"
     ]
    },
    {
     "data": {
      "image/png": "[encoded data removed]",
      "text/plain": [
       "<Figure size 700x500 with 1 Axes>"
      ]
     },
     "metadata": {},
     "output_type": "display_data"
    }
   ],
   "source": [
    "y_low, y_high = init_obj.define_intervals(init_obj.df)\n",
    "utils.plot_ecoff_distributions(y_low, y_high, mu, sigma_hat, z_99, -10, 0)"
   ]
  },
  {
   "cell_type": "markdown",
   "metadata": {},
   "source": []
  },
  {
   "cell_type": "markdown",
   "metadata": {},
   "source": [
    "# MIC catalogue "
   ]
  },
  {
   "cell_type": "markdown",
   "metadata": {},
   "source": [
    "Fit regression lines to each BDQ mutation using meintreg (so I have a reference for when I build catomatic's catalogue builder)"
   ]
  },
  {
   "cell_type": "code",
   "execution_count": 201,
   "metadata": {},
   "outputs": [],
   "source": [
    "from catomatic.RegressionCatalogue import BuildRegressionCatalogue\n",
    "import matplotlib.pyplot as plt\n",
    "from autograd.scipy.stats import norm \n",
    "import numpy as np\n"
   ]
  },
  {
   "cell_type": "code",
   "execution_count": 202,
   "metadata": {},
   "outputs": [],
   "source": [
    "def predicted_effects(result, X, p):\n",
    "    # Extract only the first p elements of the result, which correspond to the mutation effects\n",
    "    fixed_effects_coefficients = result.x[:p]\n",
    "\n",
    "    # Sigma (standard deviation)\n",
    "    sigma = result.x[-1]\n",
    "\n",
    "    # Create DataFrame for mutation effects\n",
    "    mutation_effects = pd.DataFrame({\n",
    "        'Mutation': X.columns,  # The names of the mutations from X\n",
    "        'Effect_Size': fixed_effects_coefficients\n",
    "    })\n",
    "\n",
    "    # Convert effect sizes to MIC values (by reversing the log transformation)\n",
    "    mutation_effects['MIC'] = 2**mutation_effects['Effect_Size']\n",
    "\n",
    "    if hasattr(result, 'hess_inv'):\n",
    "        hess_inv_dense = result.hess_inv.todense()  # Convert to a dense matrix\n",
    "        # Extract the diagonal elements corresponding to the fixed effects (log2(MIC) scale)\n",
    "        effect_std_log2 = np.sqrt(np.diag(hess_inv_dense)[:p])  # Standard deviation of log2(MIC)\n",
    "        mutation_effects['Effect_Std'] = effect_std_log2\n",
    "        # Convert standard deviation to MIC scale\n",
    "        mutation_effects['MIC_Std'] = mutation_effects['MIC'] * np.log(2) * mutation_effects['Effect_Std']\n",
    "        mutation_effects = mutation_effects[['Mutation', 'Effect_Size', 'Effect_Std', 'MIC', 'MIC_Std']]\n",
    "    else:\n",
    "        mutation_effects = mutation_effects[['Mutation', 'Effect_Size', 'MIC']]\n",
    "\n",
    "    return mutation_effects"
   ]
  },
  {
   "cell_type": "code",
   "execution_count": 209,
   "metadata": {},
   "outputs": [
    {
     "name": "stderr",
     "output_type": "stream",
     "text": [
      "/var/folders/s5/pshvb2093574r5hqnwcy6klw0000gn/T/ipykernel_73911/170492373.py:6: DeprecationWarning: DataFrameGroupBy.apply operated on the grouping columns. This behavior is deprecated, and in a future version of pandas the grouping columns will be excluded from the operation. Either pass `include_groups=False` to exclude the groupings or explicitly select the grouping columns after groupby to silence this warning.\n",
      "  phenotypes = phenotypes.groupby(\"UNIQUEID\").apply(filter_multiple_phenos).reset_index(drop=True)\n"
     ]
    }
   ],
   "source": [
    "mutations = pd.read_csv('../data/ignore/MUTATIONS_BDQ.csv').reset_index()\n",
    "genomes = pd.read_csv('../../BDQ_analysis/tb-bdq-cat/data/GENOMES.csv.gz').reset_index()\n",
    "phenotypes = pd.read_csv('../data/ignore/phenotypes_bdq.csv').reset_index()\n",
    "\n",
    "phenotypes = phenotypes[~phenotypes.METHOD_MIC.isna()]\n",
    "phenotypes = phenotypes.groupby(\"UNIQUEID\").apply(filter_multiple_phenos).reset_index(drop=True)\n",
    "\n",
    "samples = pd.merge(phenotypes, genomes, how='inner', on=['UNIQUEID'])[[\"UNIQUEID\", \"DRUG\", \"SOURCE\", \"METHOD_3\", \"PHENOTYPE\", \"METHOD_MIC\", \"METHOD_2\"]].rename(columns={'METHOD_MIC':'MIC'})\n",
    "samples = samples[samples.METHOD_3.isin(['MGIT960'])]\n",
    "\n",
    "mutations['MUTATION'] = mutations.apply(\n",
    "    lambda x: f\"{x['GENE']}@{x['MINOR_MUTATION'] if x['IS_MINOR_ALLELE'] else x['MUTATION']}\",\n",
    "    axis=1,\n",
    ")\n",
    "mutations = mutations[mutations[\"MUTATION\"].apply(\n",
    "    lambda x: x.split(\"@\")[-1][-1] not in ['Z', 'z']\n",
    ")]\n",
    "mutations = mutations[~mutations.GENE.isin(['mmpL5', 'mmpS5'])]\n"
   ]
  },
  {
   "cell_type": "code",
   "execution_count": 210,
   "metadata": {},
   "outputs": [
    {
     "data": {
      "text/html": [
       "<div>\n",
       "<style scoped>\n",
       "    .dataframe tbody tr th:only-of-type {\n",
       "        vertical-align: middle;\n",
       "    }\n",
       "\n",
       "    .dataframe tbody tr th {\n",
       "        vertical-align: top;\n",
       "    }\n",
       "\n",
       "    .dataframe thead th {\n",
       "        text-align: right;\n",
       "    }\n",
       "</style>\n",
       "<table border=\"1\" class=\"dataframe\">\n",
       "  <thead>\n",
       "    <tr style=\"text-align: right;\">\n",
       "      <th></th>\n",
       "      <th>UNIQUEID</th>\n",
       "      <th>DRUG</th>\n",
       "      <th>SOURCE</th>\n",
       "      <th>METHOD_3</th>\n",
       "      <th>PHENOTYPE</th>\n",
       "      <th>MIC</th>\n",
       "      <th>METHOD_2</th>\n",
       "      <th>level_0</th>\n",
       "      <th>Unnamed: 0</th>\n",
       "      <th>index</th>\n",
       "      <th>...</th>\n",
       "      <th>GENE_POSITION</th>\n",
       "      <th>CODES_PROTEIN</th>\n",
       "      <th>INDEL_LENGTH</th>\n",
       "      <th>INDEL_NUCLEOTIDES</th>\n",
       "      <th>AMINO_ACID_NUMBER</th>\n",
       "      <th>AMINO_ACID_SEQUENCE</th>\n",
       "      <th>NUMBER_NUCLEOTIDE_CHANGES</th>\n",
       "      <th>IS_MINOR_ALLELE</th>\n",
       "      <th>MINOR_MUTATION</th>\n",
       "      <th>FRS</th>\n",
       "    </tr>\n",
       "  </thead>\n",
       "  <tbody>\n",
       "    <tr>\n",
       "      <th>0</th>\n",
       "      <td>site.10.subj.BA00362371.lab.BA00362371.iso.1</td>\n",
       "      <td>BDQ</td>\n",
       "      <td>NICD</td>\n",
       "      <td>MGIT960</td>\n",
       "      <td>R</td>\n",
       "      <td>2</td>\n",
       "      <td>MGIT</td>\n",
       "      <td>2488.0</td>\n",
       "      <td>39508.0</td>\n",
       "      <td>39508.0</td>\n",
       "      <td>...</td>\n",
       "      <td>138.0</td>\n",
       "      <td>True</td>\n",
       "      <td>1.0</td>\n",
       "      <td>g</td>\n",
       "      <td>NaN</td>\n",
       "      <td>NaN</td>\n",
       "      <td>NaN</td>\n",
       "      <td>False</td>\n",
       "      <td>NaN</td>\n",
       "      <td>NaN</td>\n",
       "    </tr>\n",
       "    <tr>\n",
       "      <th>1</th>\n",
       "      <td>site.10.subj.BC01130569.lab.BC01130569.iso.1</td>\n",
       "      <td>BDQ</td>\n",
       "      <td>NICD</td>\n",
       "      <td>MGIT960</td>\n",
       "      <td>R</td>\n",
       "      <td>2</td>\n",
       "      <td>MGIT</td>\n",
       "      <td>NaN</td>\n",
       "      <td>NaN</td>\n",
       "      <td>NaN</td>\n",
       "      <td>...</td>\n",
       "      <td>NaN</td>\n",
       "      <td>NaN</td>\n",
       "      <td>NaN</td>\n",
       "      <td>NaN</td>\n",
       "      <td>NaN</td>\n",
       "      <td>NaN</td>\n",
       "      <td>NaN</td>\n",
       "      <td>NaN</td>\n",
       "      <td>NaN</td>\n",
       "      <td>NaN</td>\n",
       "    </tr>\n",
       "    <tr>\n",
       "      <th>2</th>\n",
       "      <td>site.10.subj.BC01202171.lab.BC01202171.iso.1</td>\n",
       "      <td>BDQ</td>\n",
       "      <td>NICD</td>\n",
       "      <td>MGIT960</td>\n",
       "      <td>S</td>\n",
       "      <td>0.5</td>\n",
       "      <td>MGIT</td>\n",
       "      <td>NaN</td>\n",
       "      <td>NaN</td>\n",
       "      <td>NaN</td>\n",
       "      <td>...</td>\n",
       "      <td>NaN</td>\n",
       "      <td>NaN</td>\n",
       "      <td>NaN</td>\n",
       "      <td>NaN</td>\n",
       "      <td>NaN</td>\n",
       "      <td>NaN</td>\n",
       "      <td>NaN</td>\n",
       "      <td>NaN</td>\n",
       "      <td>NaN</td>\n",
       "      <td>NaN</td>\n",
       "    </tr>\n",
       "    <tr>\n",
       "      <th>3</th>\n",
       "      <td>site.10.subj.BC01215382.lab.BC01215382.iso.1</td>\n",
       "      <td>BDQ</td>\n",
       "      <td>NICD</td>\n",
       "      <td>MGIT960</td>\n",
       "      <td>S</td>\n",
       "      <td>0.5</td>\n",
       "      <td>MGIT</td>\n",
       "      <td>NaN</td>\n",
       "      <td>NaN</td>\n",
       "      <td>NaN</td>\n",
       "      <td>...</td>\n",
       "      <td>NaN</td>\n",
       "      <td>NaN</td>\n",
       "      <td>NaN</td>\n",
       "      <td>NaN</td>\n",
       "      <td>NaN</td>\n",
       "      <td>NaN</td>\n",
       "      <td>NaN</td>\n",
       "      <td>NaN</td>\n",
       "      <td>NaN</td>\n",
       "      <td>NaN</td>\n",
       "    </tr>\n",
       "    <tr>\n",
       "      <th>4</th>\n",
       "      <td>site.10.subj.BC01232303.lab.BC01232303.iso.1</td>\n",
       "      <td>BDQ</td>\n",
       "      <td>NICD</td>\n",
       "      <td>MGIT960</td>\n",
       "      <td>S</td>\n",
       "      <td>&lt;=0.125</td>\n",
       "      <td>MGIT</td>\n",
       "      <td>NaN</td>\n",
       "      <td>NaN</td>\n",
       "      <td>NaN</td>\n",
       "      <td>...</td>\n",
       "      <td>NaN</td>\n",
       "      <td>NaN</td>\n",
       "      <td>NaN</td>\n",
       "      <td>NaN</td>\n",
       "      <td>NaN</td>\n",
       "      <td>NaN</td>\n",
       "      <td>NaN</td>\n",
       "      <td>NaN</td>\n",
       "      <td>NaN</td>\n",
       "      <td>NaN</td>\n",
       "    </tr>\n",
       "    <tr>\n",
       "      <th>...</th>\n",
       "      <td>...</td>\n",
       "      <td>...</td>\n",
       "      <td>...</td>\n",
       "      <td>...</td>\n",
       "      <td>...</td>\n",
       "      <td>...</td>\n",
       "      <td>...</td>\n",
       "      <td>...</td>\n",
       "      <td>...</td>\n",
       "      <td>...</td>\n",
       "      <td>...</td>\n",
       "      <td>...</td>\n",
       "      <td>...</td>\n",
       "      <td>...</td>\n",
       "      <td>...</td>\n",
       "      <td>...</td>\n",
       "      <td>...</td>\n",
       "      <td>...</td>\n",
       "      <td>...</td>\n",
       "      <td>...</td>\n",
       "      <td>...</td>\n",
       "    </tr>\n",
       "    <tr>\n",
       "      <th>700</th>\n",
       "      <td>site.10.subj.YA00194349.lab.YA00194349.iso.1</td>\n",
       "      <td>BDQ</td>\n",
       "      <td>NICD</td>\n",
       "      <td>MGIT960</td>\n",
       "      <td>R</td>\n",
       "      <td>2</td>\n",
       "      <td>MGIT</td>\n",
       "      <td>2396.0</td>\n",
       "      <td>38674.0</td>\n",
       "      <td>38674.0</td>\n",
       "      <td>...</td>\n",
       "      <td>193.0</td>\n",
       "      <td>True</td>\n",
       "      <td>-1.0</td>\n",
       "      <td>g</td>\n",
       "      <td>NaN</td>\n",
       "      <td>NaN</td>\n",
       "      <td>0.0</td>\n",
       "      <td>True</td>\n",
       "      <td>193_del_g</td>\n",
       "      <td>0.537</td>\n",
       "    </tr>\n",
       "    <tr>\n",
       "      <th>701</th>\n",
       "      <td>site.10.subj.YA00194374.lab.YA00194374.iso.1</td>\n",
       "      <td>BDQ</td>\n",
       "      <td>NICD</td>\n",
       "      <td>MGIT960</td>\n",
       "      <td>R</td>\n",
       "      <td>2</td>\n",
       "      <td>MGIT</td>\n",
       "      <td>2321.0</td>\n",
       "      <td>38074.0</td>\n",
       "      <td>38074.0</td>\n",
       "      <td>...</td>\n",
       "      <td>141.0</td>\n",
       "      <td>True</td>\n",
       "      <td>1.0</td>\n",
       "      <td>c</td>\n",
       "      <td>NaN</td>\n",
       "      <td>NaN</td>\n",
       "      <td>0.0</td>\n",
       "      <td>True</td>\n",
       "      <td>141_ins_c</td>\n",
       "      <td>0.455</td>\n",
       "    </tr>\n",
       "    <tr>\n",
       "      <th>702</th>\n",
       "      <td>site.10.subj.YA00194374.lab.YA00194374.iso.1</td>\n",
       "      <td>BDQ</td>\n",
       "      <td>NICD</td>\n",
       "      <td>MGIT960</td>\n",
       "      <td>R</td>\n",
       "      <td>2</td>\n",
       "      <td>MGIT</td>\n",
       "      <td>2322.0</td>\n",
       "      <td>38075.0</td>\n",
       "      <td>38075.0</td>\n",
       "      <td>...</td>\n",
       "      <td>423.0</td>\n",
       "      <td>True</td>\n",
       "      <td>1.0</td>\n",
       "      <td>c</td>\n",
       "      <td>NaN</td>\n",
       "      <td>NaN</td>\n",
       "      <td>0.0</td>\n",
       "      <td>True</td>\n",
       "      <td>423_ins_c</td>\n",
       "      <td>0.645</td>\n",
       "    </tr>\n",
       "    <tr>\n",
       "      <th>703</th>\n",
       "      <td>site.10.subj.YA00205997.lab.YA00205997.iso.1</td>\n",
       "      <td>BDQ</td>\n",
       "      <td>NICD</td>\n",
       "      <td>MGIT960</td>\n",
       "      <td>R</td>\n",
       "      <td>2</td>\n",
       "      <td>MGIT</td>\n",
       "      <td>2830.0</td>\n",
       "      <td>42078.0</td>\n",
       "      <td>42078.0</td>\n",
       "      <td>...</td>\n",
       "      <td>41.0</td>\n",
       "      <td>True</td>\n",
       "      <td>NaN</td>\n",
       "      <td>NaN</td>\n",
       "      <td>41.0</td>\n",
       "      <td>D</td>\n",
       "      <td>1.0</td>\n",
       "      <td>False</td>\n",
       "      <td>NaN</td>\n",
       "      <td>NaN</td>\n",
       "    </tr>\n",
       "    <tr>\n",
       "      <th>704</th>\n",
       "      <td>site.10.subj.YAM0003022.lab.YAM0003022.iso.1</td>\n",
       "      <td>BDQ</td>\n",
       "      <td>NICD</td>\n",
       "      <td>MGIT960</td>\n",
       "      <td>R</td>\n",
       "      <td>4</td>\n",
       "      <td>MGIT</td>\n",
       "      <td>2061.0</td>\n",
       "      <td>35997.0</td>\n",
       "      <td>35997.0</td>\n",
       "      <td>...</td>\n",
       "      <td>141.0</td>\n",
       "      <td>True</td>\n",
       "      <td>1.0</td>\n",
       "      <td>c</td>\n",
       "      <td>NaN</td>\n",
       "      <td>NaN</td>\n",
       "      <td>NaN</td>\n",
       "      <td>False</td>\n",
       "      <td>NaN</td>\n",
       "      <td>NaN</td>\n",
       "    </tr>\n",
       "  </tbody>\n",
       "</table>\n",
       "<p>705 rows × 26 columns</p>\n",
       "</div>"
      ],
      "text/plain": [
       "                                         UNIQUEID DRUG SOURCE METHOD_3  \\\n",
       "0    site.10.subj.BA00362371.lab.BA00362371.iso.1  BDQ   NICD  MGIT960   \n",
       "1    site.10.subj.BC01130569.lab.BC01130569.iso.1  BDQ   NICD  MGIT960   \n",
       "2    site.10.subj.BC01202171.lab.BC01202171.iso.1  BDQ   NICD  MGIT960   \n",
       "3    site.10.subj.BC01215382.lab.BC01215382.iso.1  BDQ   NICD  MGIT960   \n",
       "4    site.10.subj.BC01232303.lab.BC01232303.iso.1  BDQ   NICD  MGIT960   \n",
       "..                                            ...  ...    ...      ...   \n",
       "700  site.10.subj.YA00194349.lab.YA00194349.iso.1  BDQ   NICD  MGIT960   \n",
       "701  site.10.subj.YA00194374.lab.YA00194374.iso.1  BDQ   NICD  MGIT960   \n",
       "702  site.10.subj.YA00194374.lab.YA00194374.iso.1  BDQ   NICD  MGIT960   \n",
       "703  site.10.subj.YA00205997.lab.YA00205997.iso.1  BDQ   NICD  MGIT960   \n",
       "704  site.10.subj.YAM0003022.lab.YAM0003022.iso.1  BDQ   NICD  MGIT960   \n",
       "\n",
       "    PHENOTYPE      MIC METHOD_2  level_0  Unnamed: 0    index  ...  \\\n",
       "0           R        2     MGIT   2488.0     39508.0  39508.0  ...   \n",
       "1           R        2     MGIT      NaN         NaN      NaN  ...   \n",
       "2           S      0.5     MGIT      NaN         NaN      NaN  ...   \n",
       "3           S      0.5     MGIT      NaN         NaN      NaN  ...   \n",
       "4           S  <=0.125     MGIT      NaN         NaN      NaN  ...   \n",
       "..        ...      ...      ...      ...         ...      ...  ...   \n",
       "700         R        2     MGIT   2396.0     38674.0  38674.0  ...   \n",
       "701         R        2     MGIT   2321.0     38074.0  38074.0  ...   \n",
       "702         R        2     MGIT   2322.0     38075.0  38075.0  ...   \n",
       "703         R        2     MGIT   2830.0     42078.0  42078.0  ...   \n",
       "704         R        4     MGIT   2061.0     35997.0  35997.0  ...   \n",
       "\n",
       "    GENE_POSITION CODES_PROTEIN INDEL_LENGTH INDEL_NUCLEOTIDES  \\\n",
       "0           138.0          True          1.0                 g   \n",
       "1             NaN           NaN          NaN               NaN   \n",
       "2             NaN           NaN          NaN               NaN   \n",
       "3             NaN           NaN          NaN               NaN   \n",
       "4             NaN           NaN          NaN               NaN   \n",
       "..            ...           ...          ...               ...   \n",
       "700         193.0          True         -1.0                 g   \n",
       "701         141.0          True          1.0                 c   \n",
       "702         423.0          True          1.0                 c   \n",
       "703          41.0          True          NaN               NaN   \n",
       "704         141.0          True          1.0                 c   \n",
       "\n",
       "     AMINO_ACID_NUMBER  AMINO_ACID_SEQUENCE  NUMBER_NUCLEOTIDE_CHANGES  \\\n",
       "0                  NaN                  NaN                        NaN   \n",
       "1                  NaN                  NaN                        NaN   \n",
       "2                  NaN                  NaN                        NaN   \n",
       "3                  NaN                  NaN                        NaN   \n",
       "4                  NaN                  NaN                        NaN   \n",
       "..                 ...                  ...                        ...   \n",
       "700                NaN                  NaN                        0.0   \n",
       "701                NaN                  NaN                        0.0   \n",
       "702                NaN                  NaN                        0.0   \n",
       "703               41.0                    D                        1.0   \n",
       "704                NaN                  NaN                        NaN   \n",
       "\n",
       "    IS_MINOR_ALLELE  MINOR_MUTATION    FRS  \n",
       "0             False             NaN    NaN  \n",
       "1               NaN             NaN    NaN  \n",
       "2               NaN             NaN    NaN  \n",
       "3               NaN             NaN    NaN  \n",
       "4               NaN             NaN    NaN  \n",
       "..              ...             ...    ...  \n",
       "700            True       193_del_g  0.537  \n",
       "701            True       141_ins_c  0.455  \n",
       "702            True       423_ins_c  0.645  \n",
       "703           False             NaN    NaN  \n",
       "704           False             NaN    NaN  \n",
       "\n",
       "[705 rows x 26 columns]"
      ]
     },
     "execution_count": 210,
     "metadata": {},
     "output_type": "execute_result"
    }
   ],
   "source": [
    "pd.merge(samples, mutations, how='left', on='UNIQUEID')"
   ]
  },
  {
   "cell_type": "code",
   "execution_count": null,
   "metadata": {},
   "outputs": [],
   "source": [
    "results, X, y_low, y_high = BuildRegressionCatalogue(samples, mutations).predict_effects(b_bounds=(-6, 6), s_bounds=(1e-5, None))"
   ]
  },
  {
   "cell_type": "code",
   "execution_count": 224,
   "metadata": {},
   "outputs": [
    {
     "data": {
      "text/html": [
       "<div>\n",
       "<style scoped>\n",
       "    .dataframe tbody tr th:only-of-type {\n",
       "        vertical-align: middle;\n",
       "    }\n",
       "\n",
       "    .dataframe tbody tr th {\n",
       "        vertical-align: top;\n",
       "    }\n",
       "\n",
       "    .dataframe thead th {\n",
       "        text-align: right;\n",
       "    }\n",
       "</style>\n",
       "<table border=\"1\" class=\"dataframe\">\n",
       "  <thead>\n",
       "    <tr style=\"text-align: right;\">\n",
       "      <th></th>\n",
       "      <th>Mutation</th>\n",
       "      <th>Effect_Size</th>\n",
       "      <th>Effect_Std</th>\n",
       "      <th>MIC</th>\n",
       "      <th>MIC_Std</th>\n",
       "    </tr>\n",
       "  </thead>\n",
       "  <tbody>\n",
       "    <tr>\n",
       "      <th>0</th>\n",
       "      <td>Rv0678@-7_ins_a</td>\n",
       "      <td>-0.270218</td>\n",
       "      <td>1.012235</td>\n",
       "      <td>0.829194</td>\n",
       "      <td>0.581786</td>\n",
       "    </tr>\n",
       "    <tr>\n",
       "      <th>1</th>\n",
       "      <td>Rv0678@128_del_tgctggtgtg</td>\n",
       "      <td>1.025808</td>\n",
       "      <td>1.000126</td>\n",
       "      <td>2.036100</td>\n",
       "      <td>1.411494</td>\n",
       "    </tr>\n",
       "    <tr>\n",
       "      <th>2</th>\n",
       "      <td>Rv0678@128_del_tgctggtgtgt</td>\n",
       "      <td>0.231516</td>\n",
       "      <td>1.000108</td>\n",
       "      <td>1.174068</td>\n",
       "      <td>0.813890</td>\n",
       "    </tr>\n",
       "    <tr>\n",
       "      <th>3</th>\n",
       "      <td>Rv0678@130_del_ctggtgtgt</td>\n",
       "      <td>0.694921</td>\n",
       "      <td>1.304733</td>\n",
       "      <td>1.618796</td>\n",
       "      <td>1.463994</td>\n",
       "    </tr>\n",
       "    <tr>\n",
       "      <th>4</th>\n",
       "      <td>Rv0678@132_ins_gt</td>\n",
       "      <td>1.285081</td>\n",
       "      <td>1.166704</td>\n",
       "      <td>2.436957</td>\n",
       "      <td>1.970761</td>\n",
       "    </tr>\n",
       "    <tr>\n",
       "      <th>...</th>\n",
       "      <td>...</td>\n",
       "      <td>...</td>\n",
       "      <td>...</td>\n",
       "      <td>...</td>\n",
       "      <td>...</td>\n",
       "    </tr>\n",
       "    <tr>\n",
       "      <th>158</th>\n",
       "      <td>pepQ@Q5!</td>\n",
       "      <td>0.726902</td>\n",
       "      <td>1.003511</td>\n",
       "      <td>1.655081</td>\n",
       "      <td>1.151243</td>\n",
       "    </tr>\n",
       "    <tr>\n",
       "      <th>159</th>\n",
       "      <td>pepQ@S200L</td>\n",
       "      <td>0.659398</td>\n",
       "      <td>1.214303</td>\n",
       "      <td>1.579423</td>\n",
       "      <td>1.329386</td>\n",
       "    </tr>\n",
       "    <tr>\n",
       "      <th>160</th>\n",
       "      <td>pepQ@S66P</td>\n",
       "      <td>-4.335892</td>\n",
       "      <td>28.331685</td>\n",
       "      <td>0.049518</td>\n",
       "      <td>0.972443</td>\n",
       "    </tr>\n",
       "    <tr>\n",
       "      <th>161</th>\n",
       "      <td>pepQ@V102I</td>\n",
       "      <td>-1.552818</td>\n",
       "      <td>1.002877</td>\n",
       "      <td>0.340844</td>\n",
       "      <td>0.236934</td>\n",
       "    </tr>\n",
       "    <tr>\n",
       "      <th>162</th>\n",
       "      <td>pepQ@V298I</td>\n",
       "      <td>-0.752029</td>\n",
       "      <td>1.001831</td>\n",
       "      <td>0.593768</td>\n",
       "      <td>0.412322</td>\n",
       "    </tr>\n",
       "  </tbody>\n",
       "</table>\n",
       "<p>163 rows × 5 columns</p>\n",
       "</div>"
      ],
      "text/plain": [
       "                       Mutation  Effect_Size  Effect_Std       MIC   MIC_Std\n",
       "0               Rv0678@-7_ins_a    -0.270218    1.012235  0.829194  0.581786\n",
       "1     Rv0678@128_del_tgctggtgtg     1.025808    1.000126  2.036100  1.411494\n",
       "2    Rv0678@128_del_tgctggtgtgt     0.231516    1.000108  1.174068  0.813890\n",
       "3      Rv0678@130_del_ctggtgtgt     0.694921    1.304733  1.618796  1.463994\n",
       "4             Rv0678@132_ins_gt     1.285081    1.166704  2.436957  1.970761\n",
       "..                          ...          ...         ...       ...       ...\n",
       "158                    pepQ@Q5!     0.726902    1.003511  1.655081  1.151243\n",
       "159                  pepQ@S200L     0.659398    1.214303  1.579423  1.329386\n",
       "160                   pepQ@S66P    -4.335892   28.331685  0.049518  0.972443\n",
       "161                  pepQ@V102I    -1.552818    1.002877  0.340844  0.236934\n",
       "162                  pepQ@V298I    -0.752029    1.001831  0.593768  0.412322\n",
       "\n",
       "[163 rows x 5 columns]"
      ]
     },
     "execution_count": 224,
     "metadata": {},
     "output_type": "execute_result"
    }
   ],
   "source": [
    "effects = predicted_effects(results, X, X.shape[1])\n",
    "effects"
   ]
  },
  {
   "cell_type": "code",
   "execution_count": 225,
   "metadata": {},
   "outputs": [],
   "source": [
    "df = pd.merge(samples, mutations, how='left', on=['UNIQUEID'])\n",
    "unique_ids = df.UNIQUEID.unique().tolist()\n",
    "\n",
    "# Assuming y_low is an array that has the same length as the unique UNIQUEIDs\n",
    "# Create the mapping\n",
    "id_to_y_low = {unique_ids[id]: y_low[id] for id in range(len(unique_ids))}\n",
    "id_to_y_high = {unique_ids[id]: y_high[id] for id in range(len(unique_ids))}\n",
    "df['y_low_log'] = df['UNIQUEID'].map(id_to_y_low)\n",
    "df['y_high_log'] = df['UNIQUEID'].map(id_to_y_high)\n",
    "\n",
    "mut_y_low_log = {mut: df.loc[df['MUTATION'] == mut, 'y_low_log'].to_numpy() \n",
    "                 for mut in df['MUTATION'].unique()}\n",
    "mut_y_high_log = {mut: df.loc[df['MUTATION'] == mut, 'y_high_log'].to_numpy() \n",
    "                 for mut in df['MUTATION'].unique()}"
   ]
  },
  {
   "cell_type": "code",
   "execution_count": 226,
   "metadata": {},
   "outputs": [
    {
     "data": {
      "image/png": "[encoded data removed]",
      "text/plain": [
       "<Figure size 400x200 with 1 Axes>"
      ]
     },
     "metadata": {},
     "output_type": "display_data"
    },
    {
     "data": {
      "image/png": "[encoded data removed]",
      "text/plain": [
       "<Figure size 400x200 with 1 Axes>"
      ]
     },
     "metadata": {},
     "output_type": "display_data"
    },
    {
     "name": "stderr",
     "output_type": "stream",
     "text": [
      "/Users/dylanadlard/miniforge3/envs/catomatic_release/lib/python3.13/site-packages/matplotlib/axes/_axes.py:2561: RuntimeWarning: invalid value encountered in subtract\n",
      "  left = x - width / 2\n"
     ]
    },
    {
     "data": {
      "image/png": "[encoded data removed]",
      "text/plain": [
       "<Figure size 400x200 with 1 Axes>"
      ]
     },
     "metadata": {},
     "output_type": "display_data"
    },
    {
     "data": {
      "image/png": "[encoded data removed]",
      "text/plain": [
       "<Figure size 400x200 with 1 Axes>"
      ]
     },
     "metadata": {},
     "output_type": "display_data"
    },
    {
     "data": {
      "image/png": "[encoded data removed]",
      "text/plain": [
       "<Figure size 400x200 with 1 Axes>"
      ]
     },
     "metadata": {},
     "output_type": "display_data"
    },
    {
     "data": {
      "image/png": "[encoded data removed]",
      "text/plain": [
       "<Figure size 400x200 with 1 Axes>"
      ]
     },
     "metadata": {},
     "output_type": "display_data"
    },
    {
     "data": {
      "image/png": "[encoded data removed]",
      "text/plain": [
       "<Figure size 400x200 with 1 Axes>"
      ]
     },
     "metadata": {},
     "output_type": "display_data"
    },
    {
     "data": {
      "image/png": "[encoded data removed]",
      "text/plain": [
       "<Figure size 400x200 with 1 Axes>"
      ]
     },
     "metadata": {},
     "output_type": "display_data"
    },
    {
     "data": {
      "image/png": "[encoded data removed]",
      "text/plain": [
       "<Figure size 400x200 with 1 Axes>"
      ]
     },
     "metadata": {},
     "output_type": "display_data"
    },
    {
     "data": {
      "image/png": "[encoded data removed]",
      "text/plain": [
       "<Figure size 400x200 with 1 Axes>"
      ]
     },
     "metadata": {},
     "output_type": "display_data"
    },
    {
     "data": {
      "image/png": "[encoded data removed]",
      "text/plain": [
       "<Figure size 400x200 with 1 Axes>"
      ]
     },
     "metadata": {},
     "output_type": "display_data"
    },
    {
     "data": {
      "image/png": "[encoded data removed]",
      "text/plain": [
       "<Figure size 400x200 with 1 Axes>"
      ]
     },
     "metadata": {},
     "output_type": "display_data"
    },
    {
     "data": {
      "image/png": "[encoded data removed]",
      "text/plain": [
       "<Figure size 400x200 with 1 Axes>"
      ]
     },
     "metadata": {},
     "output_type": "display_data"
    },
    {
     "data": {
      "image/png": "[encoded data removed]",
      "text/plain": [
       "<Figure size 400x200 with 1 Axes>"
      ]
     },
     "metadata": {},
     "output_type": "display_data"
    },
    {
     "data": {
      "image/png": "[encoded data removed]",
      "text/plain": [
       "<Figure size 400x200 with 1 Axes>"
      ]
     },
     "metadata": {},
     "output_type": "display_data"
    },
    {
     "data": {
      "image/png": "[encoded data removed]",
      "text/plain": [
       "<Figure size 400x200 with 1 Axes>"
      ]
     },
     "metadata": {},
     "output_type": "display_data"
    },
    {
     "data": {
      "image/png": "[encoded data removed]",
      "text/plain": [
       "<Figure size 400x200 with 1 Axes>"
      ]
     },
     "metadata": {},
     "output_type": "display_data"
    },
    {
     "data": {
      "image/png": "[encoded data removed]",
      "text/plain": [
       "<Figure size 400x200 with 1 Axes>"
      ]
     },
     "metadata": {},
     "output_type": "display_data"
    }
   ],
   "source": [
    "global_x_min = -6\n",
    "global_x_max = 6\n",
    "\n",
    "for _, row in effects.iterrows():\n",
    "    mutation_name = row['Mutation']\n",
    "    log2_mic = row['Effect_Size']  # Assuming log2(MIC) is stored in 'Effect_Size'\n",
    "    mic = row['MIC']  # Actual MIC value in the 'MIC' column\n",
    "\n",
    "    if len(mut_y_low_log[mutation_name]) > 3:\n",
    "\n",
    "        # Get the mutation-specific MIC intervals\n",
    "        mutation_y_low_log = mut_y_low_log[mutation_name]\n",
    "        mutation_y_high_log = mut_y_high_log[mutation_name]\n",
    "\n",
    "        # Combine the low and high log2 MIC values into interval tuples for the current mutation\n",
    "        mutation_intervals = [(low, high) for low, high in zip(mutation_y_low_log, mutation_y_high_log)]\n",
    "\n",
    "        # Get unique intervals for the current mutation\n",
    "        unique_intervals = sorted(set(mutation_intervals))\n",
    "\n",
    "        # Calculate counts for each unique interval\n",
    "        mutation_mic_counts = [mutation_intervals.count(interval) for interval in unique_intervals]\n",
    "\n",
    "        # Extract the midpoints and widths for plotting the bars\n",
    "        interval_midpoints = [(low + high) / 2 for low, high in unique_intervals]\n",
    "        interval_widths = [high - low for low, high in unique_intervals]\n",
    "\n",
    "        plt.figure(figsize=(4, 2))  # Create a new figure for each mutation\n",
    "        \n",
    "        # Step 1: Plot the histogram of calculated MIC intervals for this mutation\n",
    "        plt.bar(interval_midpoints, height=mutation_mic_counts, width=interval_widths,\n",
    "                align='center', edgecolor='black', color='skyblue', label='True MIC Distribution')\n",
    "        \n",
    "        plt.axvline(x=0, linestyle='--', color='orange')\n",
    "\n",
    "\n",
    "        # Step 2: Overlay the fitted normal distribution for the current mutation\n",
    "        x_values = np.linspace(global_x_min, global_x_max, 100)\n",
    "        \n",
    "        # Generate the normal distribution using log2(MIC) (effect size) and std\n",
    "        y_values = norm.pdf(x_values, loc=log2_mic, scale=row['Effect_Std'])\n",
    "        \n",
    "        # Scale the normal distribution to match the height of the histogram\n",
    "        y_values *= max(mutation_mic_counts) / max(y_values)\n",
    "        \n",
    "        # Plot the fitted curve\n",
    "        plt.plot(x_values, y_values, label=f'Fitted Curve for {mutation_name}', linestyle='-', color='red')\n",
    "        \n",
    "        # Add text annotation for log2(MIC) and MIC\n",
    "        annotation_text = f\"log2(MIC): {log2_mic:.2f}\\nMIC: {mic:.2f}\"\n",
    "        plt.text(global_x_min + 0.5, max(mutation_mic_counts) * 0.8, annotation_text, fontsize=8, color='black',\n",
    "                 bbox=dict(facecolor='white', edgecolor='white', alpha=0.7))\n",
    "\n",
    "        # Customize the plot\n",
    "        plt.xlabel('log2(MIC)')\n",
    "        plt.ylabel('Counts')\n",
    "        plt.title(f'{mutation_name}', fontsize=9)  # Smaller font size\n",
    "        plt.xlim([global_x_min, global_x_max])  # Set the consistent x-axis range\n",
    "        \n",
    "        # Remove top and right spines\n",
    "        ax = plt.gca()\n",
    "        ax.spines['top'].set_visible(False)\n",
    "        ax.spines['right'].set_visible(False)\n",
    "\n",
    "        # Show the plot for this mutation\n",
    "        plt.show()\n"
   ]
  },
  {
   "cell_type": "code",
   "execution_count": null,
   "metadata": {},
   "outputs": [],
   "source": []
  },
  {
   "cell_type": "code",
   "execution_count": null,
   "metadata": {},
   "outputs": [],
   "source": []
  },
  {
   "cell_type": "code",
   "execution_count": null,
   "metadata": {},
   "outputs": [],
   "source": []
  },
  {
   "cell_type": "code",
   "execution_count": null,
   "metadata": {},
   "outputs": [],
   "source": []
  }
 ],
 "metadata": {
  "kernelspec": {
   "display_name": "catomatic_release",
   "language": "python",
   "name": "python3"
  },
  "language_info": {
   "codemirror_mode": {
    "name": "ipython",
    "version": 3
   },
   "file_extension": ".py",
   "mimetype": "text/x-python",
   "name": "python",
   "nbconvert_exporter": "python",
   "pygments_lexer": "ipython3",
   "version": "3.13.0"
  }
 },
 "nbformat": 4,
 "nbformat_minor": 2
}
