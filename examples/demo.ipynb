{
 "cells": [
  {
   "cell_type": "code",
   "execution_count": 1,
   "metadata": {},
   "outputs": [],
   "source": [
    "import piezo\n",
    "import pandas as pd\n",
    "from catomatic.CatalogueBuilder import BuildCatalogue\n",
    "from catomatic.Ecoff import GenerateEcoff\n",
    "\n",
    "%load_ext autoreload\n",
    "%autoreload 2"
   ]
  },
  {
   "cell_type": "markdown",
   "metadata": {},
   "source": [
    "This notebook demonstrates how to use catomatic, and its various functionalities - a number of non-trivial decisions need to be made depending on the data and context, which are covered here."
   ]
  },
  {
   "cell_type": "markdown",
   "metadata": {},
   "source": [
    "# Import mutations and samples tables"
   ]
  },
  {
   "cell_type": "code",
   "execution_count": 2,
   "metadata": {},
   "outputs": [
    {
     "data": {
      "text/html": [
       "<div>\n",
       "<style scoped>\n",
       "    .dataframe tbody tr th:only-of-type {\n",
       "        vertical-align: middle;\n",
       "    }\n",
       "\n",
       "    .dataframe tbody tr th {\n",
       "        vertical-align: top;\n",
       "    }\n",
       "\n",
       "    .dataframe thead th {\n",
       "        text-align: right;\n",
       "    }\n",
       "</style>\n",
       "<table border=\"1\" class=\"dataframe\">\n",
       "  <thead>\n",
       "    <tr style=\"text-align: right;\">\n",
       "      <th></th>\n",
       "      <th>UNIQUEID</th>\n",
       "      <th>MUTATION</th>\n",
       "      <th>FRS</th>\n",
       "    </tr>\n",
       "  </thead>\n",
       "  <tbody>\n",
       "    <tr>\n",
       "      <th>0</th>\n",
       "      <td>1</td>\n",
       "      <td>gene@A1S</td>\n",
       "      <td>0.73</td>\n",
       "    </tr>\n",
       "    <tr>\n",
       "      <th>1</th>\n",
       "      <td>2</td>\n",
       "      <td>gene@A1S</td>\n",
       "      <td>0.25</td>\n",
       "    </tr>\n",
       "    <tr>\n",
       "      <th>2</th>\n",
       "      <td>4</td>\n",
       "      <td>gene@A2S</td>\n",
       "      <td>0.40</td>\n",
       "    </tr>\n",
       "    <tr>\n",
       "      <th>3</th>\n",
       "      <td>7</td>\n",
       "      <td>gene@A3S</td>\n",
       "      <td>0.98</td>\n",
       "    </tr>\n",
       "    <tr>\n",
       "      <th>4</th>\n",
       "      <td>8</td>\n",
       "      <td>gene@A3S</td>\n",
       "      <td>0.90</td>\n",
       "    </tr>\n",
       "    <tr>\n",
       "      <th>5</th>\n",
       "      <td>9</td>\n",
       "      <td>gene@A3S</td>\n",
       "      <td>0.86</td>\n",
       "    </tr>\n",
       "  </tbody>\n",
       "</table>\n",
       "</div>"
      ],
      "text/plain": [
       "   UNIQUEID  MUTATION   FRS\n",
       "0         1  gene@A1S  0.73\n",
       "1         2  gene@A1S  0.25\n",
       "2         4  gene@A2S  0.40\n",
       "3         7  gene@A3S  0.98\n",
       "4         8  gene@A3S  0.90\n",
       "5         9  gene@A3S  0.86"
      ]
     },
     "execution_count": 2,
     "metadata": {},
     "output_type": "execute_result"
    }
   ],
   "source": [
    "mutations = pd.read_csv('../data/mutations.csv', index_col=0)\n",
    "mutations"
   ]
  },
  {
   "cell_type": "code",
   "execution_count": 3,
   "metadata": {},
   "outputs": [
    {
     "data": {
      "text/html": [
       "<div>\n",
       "<style scoped>\n",
       "    .dataframe tbody tr th:only-of-type {\n",
       "        vertical-align: middle;\n",
       "    }\n",
       "\n",
       "    .dataframe tbody tr th {\n",
       "        vertical-align: top;\n",
       "    }\n",
       "\n",
       "    .dataframe thead th {\n",
       "        text-align: right;\n",
       "    }\n",
       "</style>\n",
       "<table border=\"1\" class=\"dataframe\">\n",
       "  <thead>\n",
       "    <tr style=\"text-align: right;\">\n",
       "      <th></th>\n",
       "      <th>UNIQUEID</th>\n",
       "      <th>PHENOTYPE</th>\n",
       "    </tr>\n",
       "  </thead>\n",
       "  <tbody>\n",
       "    <tr>\n",
       "      <th>0</th>\n",
       "      <td>1</td>\n",
       "      <td>R</td>\n",
       "    </tr>\n",
       "    <tr>\n",
       "      <th>1</th>\n",
       "      <td>2</td>\n",
       "      <td>S</td>\n",
       "    </tr>\n",
       "    <tr>\n",
       "      <th>2</th>\n",
       "      <td>3</td>\n",
       "      <td>R</td>\n",
       "    </tr>\n",
       "    <tr>\n",
       "      <th>3</th>\n",
       "      <td>4</td>\n",
       "      <td>S</td>\n",
       "    </tr>\n",
       "    <tr>\n",
       "      <th>4</th>\n",
       "      <td>5</td>\n",
       "      <td>R</td>\n",
       "    </tr>\n",
       "    <tr>\n",
       "      <th>5</th>\n",
       "      <td>6</td>\n",
       "      <td>S</td>\n",
       "    </tr>\n",
       "    <tr>\n",
       "      <th>6</th>\n",
       "      <td>7</td>\n",
       "      <td>S</td>\n",
       "    </tr>\n",
       "    <tr>\n",
       "      <th>7</th>\n",
       "      <td>8</td>\n",
       "      <td>S</td>\n",
       "    </tr>\n",
       "    <tr>\n",
       "      <th>8</th>\n",
       "      <td>9</td>\n",
       "      <td>R</td>\n",
       "    </tr>\n",
       "    <tr>\n",
       "      <th>9</th>\n",
       "      <td>10</td>\n",
       "      <td>R</td>\n",
       "    </tr>\n",
       "  </tbody>\n",
       "</table>\n",
       "</div>"
      ],
      "text/plain": [
       "   UNIQUEID PHENOTYPE\n",
       "0         1         R\n",
       "1         2         S\n",
       "2         3         R\n",
       "3         4         S\n",
       "4         5         R\n",
       "5         6         S\n",
       "6         7         S\n",
       "7         8         S\n",
       "8         9         R\n",
       "9        10         R"
      ]
     },
     "execution_count": 3,
     "metadata": {},
     "output_type": "execute_result"
    }
   ],
   "source": [
    "samples = pd.read_csv('../data/samples.csv', index_col=0)\n",
    "samples"
   ]
  },
  {
   "cell_type": "markdown",
   "metadata": {},
   "source": [
    "# Build the catalogue"
   ]
  },
  {
   "cell_type": "code",
   "execution_count": 4,
   "metadata": {},
   "outputs": [],
   "source": [
    "catalogue = BuildCatalogue(samples=samples, mutations=mutations)"
   ]
  },
  {
   "cell_type": "markdown",
   "metadata": {},
   "source": [
    "Can return as a dictionary, where each key is a mutations:"
   ]
  },
  {
   "cell_type": "code",
   "execution_count": 5,
   "metadata": {},
   "outputs": [
    {
     "data": {
      "text/plain": [
       "{'gene@A2S': {'pred': 'S',\n",
       "  'evid': ({'proportion': 0.0,\n",
       "    'confidence': (np.float64(0.0), np.float64(0.7934506856227626)),\n",
       "    'contingency': [[0, 1], [3, 1]]},)},\n",
       " 'gene@A1S': {'pred': 'U',\n",
       "  'evid': ({'proportion': 0.5,\n",
       "    'confidence': (np.float64(0.09453120573423071),\n",
       "     np.float64(0.9054687942657693)),\n",
       "    'contingency': [[1, 1], [3, 2]]},)},\n",
       " 'gene@A3S': {'pred': 'U',\n",
       "  'evid': ({'proportion': 0.3333333333333333,\n",
       "    'confidence': (np.float64(0.061491944720396215),\n",
       "     np.float64(0.7923403991979523)),\n",
       "    'contingency': [[1, 2], [3, 2]]},)}}"
      ]
     },
     "execution_count": 5,
     "metadata": {},
     "output_type": "execute_result"
    }
   ],
   "source": [
    "catalogue.return_catalogue()"
   ]
  },
  {
   "cell_type": "markdown",
   "metadata": {},
   "source": [
    "Or can return as a piezo-structure dataframe:"
   ]
  },
  {
   "cell_type": "code",
   "execution_count": 54,
   "metadata": {},
   "outputs": [
    {
     "data": {
      "text/html": [
       "<div>\n",
       "<style scoped>\n",
       "    .dataframe tbody tr th:only-of-type {\n",
       "        vertical-align: middle;\n",
       "    }\n",
       "\n",
       "    .dataframe tbody tr th {\n",
       "        vertical-align: top;\n",
       "    }\n",
       "\n",
       "    .dataframe thead th {\n",
       "        text-align: right;\n",
       "    }\n",
       "</style>\n",
       "<table border=\"1\" class=\"dataframe\">\n",
       "  <thead>\n",
       "    <tr style=\"text-align: right;\">\n",
       "      <th></th>\n",
       "      <th>GENBANK_REFERENCE</th>\n",
       "      <th>CATALOGUE_NAME</th>\n",
       "      <th>CATALOGUE_VERSION</th>\n",
       "      <th>CATALOGUE_GRAMMAR</th>\n",
       "      <th>PREDICTION_VALUES</th>\n",
       "      <th>DRUG</th>\n",
       "      <th>MUTATION</th>\n",
       "      <th>PREDICTION</th>\n",
       "      <th>SOURCE</th>\n",
       "      <th>EVIDENCE</th>\n",
       "      <th>OTHER</th>\n",
       "    </tr>\n",
       "  </thead>\n",
       "  <tbody>\n",
       "    <tr>\n",
       "      <th>0</th>\n",
       "      <td>demo_gene</td>\n",
       "      <td>demo</td>\n",
       "      <td>0.1.1</td>\n",
       "      <td>GARC1</td>\n",
       "      <td>RUS</td>\n",
       "      <td>eg</td>\n",
       "      <td>gene@A2S</td>\n",
       "      <td>S</td>\n",
       "      <td>{}</td>\n",
       "      <td>[{\"proportion\": 0.0, \"confidence\": [0.0, 0.793...</td>\n",
       "      <td>{}</td>\n",
       "    </tr>\n",
       "    <tr>\n",
       "      <th>1</th>\n",
       "      <td>demo_gene</td>\n",
       "      <td>demo</td>\n",
       "      <td>0.1.1</td>\n",
       "      <td>GARC1</td>\n",
       "      <td>RUS</td>\n",
       "      <td>eg</td>\n",
       "      <td>gene@A1S</td>\n",
       "      <td>U</td>\n",
       "      <td>{}</td>\n",
       "      <td>[{\"proportion\": 0.5, \"confidence\": [0.09453120...</td>\n",
       "      <td>{}</td>\n",
       "    </tr>\n",
       "    <tr>\n",
       "      <th>2</th>\n",
       "      <td>demo_gene</td>\n",
       "      <td>demo</td>\n",
       "      <td>0.1.1</td>\n",
       "      <td>GARC1</td>\n",
       "      <td>RUS</td>\n",
       "      <td>eg</td>\n",
       "      <td>gene@A3S</td>\n",
       "      <td>U</td>\n",
       "      <td>{}</td>\n",
       "      <td>[{\"proportion\": 0.3333333333333333, \"confidenc...</td>\n",
       "      <td>{}</td>\n",
       "    </tr>\n",
       "    <tr>\n",
       "      <th>3</th>\n",
       "      <td>demo_gene</td>\n",
       "      <td>demo</td>\n",
       "      <td>0.1.1</td>\n",
       "      <td>GARC1</td>\n",
       "      <td>RUS</td>\n",
       "      <td>eg</td>\n",
       "      <td>gene@*=</td>\n",
       "      <td>S</td>\n",
       "      <td>{}</td>\n",
       "      <td>{\"default_rule\": \"True\"}</td>\n",
       "      <td>{}</td>\n",
       "    </tr>\n",
       "    <tr>\n",
       "      <th>4</th>\n",
       "      <td>demo_gene</td>\n",
       "      <td>demo</td>\n",
       "      <td>0.1.1</td>\n",
       "      <td>GARC1</td>\n",
       "      <td>RUS</td>\n",
       "      <td>eg</td>\n",
       "      <td>gene@-*_indel</td>\n",
       "      <td>U</td>\n",
       "      <td>{}</td>\n",
       "      <td>{\"default_rule\": \"True\"}</td>\n",
       "      <td>{}</td>\n",
       "    </tr>\n",
       "    <tr>\n",
       "      <th>5</th>\n",
       "      <td>demo_gene</td>\n",
       "      <td>demo</td>\n",
       "      <td>0.1.1</td>\n",
       "      <td>GARC1</td>\n",
       "      <td>RUS</td>\n",
       "      <td>eg</td>\n",
       "      <td>gene@*_indel</td>\n",
       "      <td>U</td>\n",
       "      <td>{}</td>\n",
       "      <td>{\"default_rule\": \"True\"}</td>\n",
       "      <td>{}</td>\n",
       "    </tr>\n",
       "    <tr>\n",
       "      <th>6</th>\n",
       "      <td>demo_gene</td>\n",
       "      <td>demo</td>\n",
       "      <td>0.1.1</td>\n",
       "      <td>GARC1</td>\n",
       "      <td>RUS</td>\n",
       "      <td>eg</td>\n",
       "      <td>gene@-*?</td>\n",
       "      <td>U</td>\n",
       "      <td>{}</td>\n",
       "      <td>{\"default_rule\": \"True\"}</td>\n",
       "      <td>{}</td>\n",
       "    </tr>\n",
       "    <tr>\n",
       "      <th>7</th>\n",
       "      <td>demo_gene</td>\n",
       "      <td>demo</td>\n",
       "      <td>0.1.1</td>\n",
       "      <td>GARC1</td>\n",
       "      <td>RUS</td>\n",
       "      <td>eg</td>\n",
       "      <td>gene@*?</td>\n",
       "      <td>U</td>\n",
       "      <td>{}</td>\n",
       "      <td>{\"default_rule\": \"True\"}</td>\n",
       "      <td>{}</td>\n",
       "    </tr>\n",
       "    <tr>\n",
       "      <th>8</th>\n",
       "      <td>demo_gene</td>\n",
       "      <td>demo</td>\n",
       "      <td>0.1.1</td>\n",
       "      <td>GARC1</td>\n",
       "      <td>RUS</td>\n",
       "      <td>eg</td>\n",
       "      <td>gene@del_0.0</td>\n",
       "      <td>U</td>\n",
       "      <td>{}</td>\n",
       "      <td>{\"default_rule\": \"True\"}</td>\n",
       "      <td>{}</td>\n",
       "    </tr>\n",
       "  </tbody>\n",
       "</table>\n",
       "</div>"
      ],
      "text/plain": [
       "  GENBANK_REFERENCE CATALOGUE_NAME CATALOGUE_VERSION CATALOGUE_GRAMMAR  \\\n",
       "0         demo_gene           demo             0.1.1             GARC1   \n",
       "1         demo_gene           demo             0.1.1             GARC1   \n",
       "2         demo_gene           demo             0.1.1             GARC1   \n",
       "3         demo_gene           demo             0.1.1             GARC1   \n",
       "4         demo_gene           demo             0.1.1             GARC1   \n",
       "5         demo_gene           demo             0.1.1             GARC1   \n",
       "6         demo_gene           demo             0.1.1             GARC1   \n",
       "7         demo_gene           demo             0.1.1             GARC1   \n",
       "8         demo_gene           demo             0.1.1             GARC1   \n",
       "\n",
       "  PREDICTION_VALUES DRUG       MUTATION PREDICTION SOURCE  \\\n",
       "0               RUS   eg       gene@A2S          S     {}   \n",
       "1               RUS   eg       gene@A1S          U     {}   \n",
       "2               RUS   eg       gene@A3S          U     {}   \n",
       "3               RUS   eg        gene@*=          S     {}   \n",
       "4               RUS   eg  gene@-*_indel          U     {}   \n",
       "5               RUS   eg   gene@*_indel          U     {}   \n",
       "6               RUS   eg       gene@-*?          U     {}   \n",
       "7               RUS   eg        gene@*?          U     {}   \n",
       "8               RUS   eg   gene@del_0.0          U     {}   \n",
       "\n",
       "                                            EVIDENCE OTHER  \n",
       "0  [{\"proportion\": 0.0, \"confidence\": [0.0, 0.793...    {}  \n",
       "1  [{\"proportion\": 0.5, \"confidence\": [0.09453120...    {}  \n",
       "2  [{\"proportion\": 0.3333333333333333, \"confidenc...    {}  \n",
       "3                           {\"default_rule\": \"True\"}    {}  \n",
       "4                           {\"default_rule\": \"True\"}    {}  \n",
       "5                           {\"default_rule\": \"True\"}    {}  \n",
       "6                           {\"default_rule\": \"True\"}    {}  \n",
       "7                           {\"default_rule\": \"True\"}    {}  \n",
       "8                           {\"default_rule\": \"True\"}    {}  "
      ]
     },
     "execution_count": 54,
     "metadata": {},
     "output_type": "execute_result"
    }
   ],
   "source": [
    "#note, wildcards can be supplied as a dictionary or path to json. for_piezo will add placeholder rows to avoid an issue with piezo (requires R+U+S)\n",
    "catalogue.build_piezo(genbank_ref='demo_gene', catalogue_name='demo', version='0.1.1', drug='eg', wildcards='../data/demo_wildcards.json', for_piezo=False)"
   ]
  },
  {
   "cell_type": "markdown",
   "metadata": {},
   "source": [
    "Or can call 'to_piezo' to directly save as a csv:"
   ]
  },
  {
   "cell_type": "code",
   "execution_count": 55,
   "metadata": {},
   "outputs": [],
   "source": [
    "catalogue.to_piezo(genbank_ref='demo_gene', catalogue_name='demo', version='0.1.1', drug='eg', wildcards='../data/demo_wildcards.json', outfile='./temp/demo_catalogue.csv')"
   ]
  },
  {
   "cell_type": "markdown",
   "metadata": {},
   "source": [
    "Piezo can then be used to make predictions:"
   ]
  },
  {
   "cell_type": "code",
   "execution_count": 56,
   "metadata": {},
   "outputs": [
    {
     "name": "stdout",
     "output_type": "stream",
     "text": [
      "prediction for mutation gene@A1S: {'eg': 'U'}\n",
      "prediction for mutation gene@A2S: {'eg': 'S'}\n"
     ]
    }
   ],
   "source": [
    "catalogue = piezo.ResistanceCatalogue(\"./temp/demo_catalogue.csv\")\n",
    "print ('prediction for mutation gene@A1S:', catalogue.predict('gene@A1S'))\n",
    "print ('prediction for mutation gene@A2S:', catalogue.predict('gene@A2S'))\n"
   ]
  },
  {
   "cell_type": "markdown",
   "metadata": {},
   "source": []
  },
  {
   "cell_type": "markdown",
   "metadata": {},
   "source": [
    "## Statistical Tests"
   ]
  },
  {
   "cell_type": "markdown",
   "metadata": {},
   "source": [
    "The default parameter for test type is `None`, which instantiates a protocol whereby susceptible mutations are defined as those with homogenously susceptible phenotypes at the level at which it is being classified - this facilitates the unlocking mechanism, however beyond that, no phenotyping is done."
   ]
  },
  {
   "cell_type": "markdown",
   "metadata": {},
   "source": [
    "To classify resistant variants, one can run a traditional binomial test on the proportion of resistance observed at that level against a user-defined background rate, by specifying `Binomial` and a background."
   ]
  },
  {
   "cell_type": "code",
   "execution_count": 57,
   "metadata": {},
   "outputs": [
    {
     "data": {
      "text/html": [
       "<div>\n",
       "<style scoped>\n",
       "    .dataframe tbody tr th:only-of-type {\n",
       "        vertical-align: middle;\n",
       "    }\n",
       "\n",
       "    .dataframe tbody tr th {\n",
       "        vertical-align: top;\n",
       "    }\n",
       "\n",
       "    .dataframe thead th {\n",
       "        text-align: right;\n",
       "    }\n",
       "</style>\n",
       "<table border=\"1\" class=\"dataframe\">\n",
       "  <thead>\n",
       "    <tr style=\"text-align: right;\">\n",
       "      <th></th>\n",
       "      <th>GENBANK_REFERENCE</th>\n",
       "      <th>CATALOGUE_NAME</th>\n",
       "      <th>CATALOGUE_VERSION</th>\n",
       "      <th>CATALOGUE_GRAMMAR</th>\n",
       "      <th>PREDICTION_VALUES</th>\n",
       "      <th>DRUG</th>\n",
       "      <th>MUTATION</th>\n",
       "      <th>PREDICTION</th>\n",
       "      <th>SOURCE</th>\n",
       "      <th>EVIDENCE</th>\n",
       "      <th>OTHER</th>\n",
       "    </tr>\n",
       "  </thead>\n",
       "  <tbody>\n",
       "    <tr>\n",
       "      <th>0</th>\n",
       "      <td>demo_gene</td>\n",
       "      <td>demo_binomial</td>\n",
       "      <td>0.1.1</td>\n",
       "      <td>GARC1</td>\n",
       "      <td>RUS</td>\n",
       "      <td>eg</td>\n",
       "      <td>gene@A2S</td>\n",
       "      <td>S</td>\n",
       "      <td>{}</td>\n",
       "      <td>[{\"proportion\": 0.0, \"confidence\": [0.0, 0.730...</td>\n",
       "      <td>{}</td>\n",
       "    </tr>\n",
       "    <tr>\n",
       "      <th>1</th>\n",
       "      <td>demo_gene</td>\n",
       "      <td>demo_binomial</td>\n",
       "      <td>0.1.1</td>\n",
       "      <td>GARC1</td>\n",
       "      <td>RUS</td>\n",
       "      <td>eg</td>\n",
       "      <td>gene@A1S</td>\n",
       "      <td>R</td>\n",
       "      <td>{}</td>\n",
       "      <td>[{\"proportion\": 0.5, \"confidence\": [0.12086631...</td>\n",
       "      <td>{}</td>\n",
       "    </tr>\n",
       "    <tr>\n",
       "      <th>2</th>\n",
       "      <td>demo_gene</td>\n",
       "      <td>demo_binomial</td>\n",
       "      <td>0.1.1</td>\n",
       "      <td>GARC1</td>\n",
       "      <td>RUS</td>\n",
       "      <td>eg</td>\n",
       "      <td>gene@A3S</td>\n",
       "      <td>U</td>\n",
       "      <td>{}</td>\n",
       "      <td>[{\"proportion\": 0.3333333333333333, \"confidenc...</td>\n",
       "      <td>{}</td>\n",
       "    </tr>\n",
       "    <tr>\n",
       "      <th>3</th>\n",
       "      <td>demo_gene</td>\n",
       "      <td>demo_binomial</td>\n",
       "      <td>0.1.1</td>\n",
       "      <td>GARC1</td>\n",
       "      <td>RUS</td>\n",
       "      <td>eg</td>\n",
       "      <td>gene@*=</td>\n",
       "      <td>S</td>\n",
       "      <td>{}</td>\n",
       "      <td>{\"default_rule\": \"True\"}</td>\n",
       "      <td>{}</td>\n",
       "    </tr>\n",
       "    <tr>\n",
       "      <th>4</th>\n",
       "      <td>demo_gene</td>\n",
       "      <td>demo_binomial</td>\n",
       "      <td>0.1.1</td>\n",
       "      <td>GARC1</td>\n",
       "      <td>RUS</td>\n",
       "      <td>eg</td>\n",
       "      <td>gene@-*_indel</td>\n",
       "      <td>U</td>\n",
       "      <td>{}</td>\n",
       "      <td>{\"default_rule\": \"True\"}</td>\n",
       "      <td>{}</td>\n",
       "    </tr>\n",
       "    <tr>\n",
       "      <th>5</th>\n",
       "      <td>demo_gene</td>\n",
       "      <td>demo_binomial</td>\n",
       "      <td>0.1.1</td>\n",
       "      <td>GARC1</td>\n",
       "      <td>RUS</td>\n",
       "      <td>eg</td>\n",
       "      <td>gene@*_indel</td>\n",
       "      <td>U</td>\n",
       "      <td>{}</td>\n",
       "      <td>{\"default_rule\": \"True\"}</td>\n",
       "      <td>{}</td>\n",
       "    </tr>\n",
       "    <tr>\n",
       "      <th>6</th>\n",
       "      <td>demo_gene</td>\n",
       "      <td>demo_binomial</td>\n",
       "      <td>0.1.1</td>\n",
       "      <td>GARC1</td>\n",
       "      <td>RUS</td>\n",
       "      <td>eg</td>\n",
       "      <td>gene@-*?</td>\n",
       "      <td>U</td>\n",
       "      <td>{}</td>\n",
       "      <td>{\"default_rule\": \"True\"}</td>\n",
       "      <td>{}</td>\n",
       "    </tr>\n",
       "    <tr>\n",
       "      <th>7</th>\n",
       "      <td>demo_gene</td>\n",
       "      <td>demo_binomial</td>\n",
       "      <td>0.1.1</td>\n",
       "      <td>GARC1</td>\n",
       "      <td>RUS</td>\n",
       "      <td>eg</td>\n",
       "      <td>gene@*?</td>\n",
       "      <td>U</td>\n",
       "      <td>{}</td>\n",
       "      <td>{\"default_rule\": \"True\"}</td>\n",
       "      <td>{}</td>\n",
       "    </tr>\n",
       "    <tr>\n",
       "      <th>8</th>\n",
       "      <td>demo_gene</td>\n",
       "      <td>demo_binomial</td>\n",
       "      <td>0.1.1</td>\n",
       "      <td>GARC1</td>\n",
       "      <td>RUS</td>\n",
       "      <td>eg</td>\n",
       "      <td>gene@del_0.0</td>\n",
       "      <td>U</td>\n",
       "      <td>{}</td>\n",
       "      <td>{\"default_rule\": \"True\"}</td>\n",
       "      <td>{}</td>\n",
       "    </tr>\n",
       "  </tbody>\n",
       "</table>\n",
       "</div>"
      ],
      "text/plain": [
       "  GENBANK_REFERENCE CATALOGUE_NAME CATALOGUE_VERSION CATALOGUE_GRAMMAR  \\\n",
       "0         demo_gene  demo_binomial             0.1.1             GARC1   \n",
       "1         demo_gene  demo_binomial             0.1.1             GARC1   \n",
       "2         demo_gene  demo_binomial             0.1.1             GARC1   \n",
       "3         demo_gene  demo_binomial             0.1.1             GARC1   \n",
       "4         demo_gene  demo_binomial             0.1.1             GARC1   \n",
       "5         demo_gene  demo_binomial             0.1.1             GARC1   \n",
       "6         demo_gene  demo_binomial             0.1.1             GARC1   \n",
       "7         demo_gene  demo_binomial             0.1.1             GARC1   \n",
       "8         demo_gene  demo_binomial             0.1.1             GARC1   \n",
       "\n",
       "  PREDICTION_VALUES DRUG       MUTATION PREDICTION SOURCE  \\\n",
       "0               RUS   eg       gene@A2S          S     {}   \n",
       "1               RUS   eg       gene@A1S          R     {}   \n",
       "2               RUS   eg       gene@A3S          U     {}   \n",
       "3               RUS   eg        gene@*=          S     {}   \n",
       "4               RUS   eg  gene@-*_indel          U     {}   \n",
       "5               RUS   eg   gene@*_indel          U     {}   \n",
       "6               RUS   eg       gene@-*?          U     {}   \n",
       "7               RUS   eg        gene@*?          U     {}   \n",
       "8               RUS   eg   gene@del_0.0          U     {}   \n",
       "\n",
       "                                            EVIDENCE OTHER  \n",
       "0  [{\"proportion\": 0.0, \"confidence\": [0.0, 0.730...    {}  \n",
       "1  [{\"proportion\": 0.5, \"confidence\": [0.12086631...    {}  \n",
       "2  [{\"proportion\": 0.3333333333333333, \"confidenc...    {}  \n",
       "3                           {\"default_rule\": \"True\"}    {}  \n",
       "4                           {\"default_rule\": \"True\"}    {}  \n",
       "5                           {\"default_rule\": \"True\"}    {}  \n",
       "6                           {\"default_rule\": \"True\"}    {}  \n",
       "7                           {\"default_rule\": \"True\"}    {}  \n",
       "8                           {\"default_rule\": \"True\"}    {}  "
      ]
     },
     "execution_count": 57,
     "metadata": {},
     "output_type": "execute_result"
    }
   ],
   "source": [
    "#run a binomial test with a background rate of 20% and a 90% 2-tailed confidence level (p=0.9) - notice R classification.\n",
    "catalogue = BuildCatalogue(samples=samples, mutations=mutations, test='Binomial', background=0.05, p=0.9)\n",
    "catalogue.build_piezo(genbank_ref='demo_gene', catalogue_name='demo_binomial', version='0.1.1', drug='eg', wildcards='../data/demo_wildcards.json')"
   ]
  },
  {
   "cell_type": "markdown",
   "metadata": {},
   "source": [
    "One can also run a Fisher's test against a calculated background rate from a contintengcy table by specifying test type `Fisher`. \n",
    "\n",
    "Backgrounds are defined as R or S phenotypes in the absence of that mutation or any mutations not yet classified as susceptible (ie, background = 'WT' phenotypes + classified S phenotypes). Essentially, the background proportion of resistance is that which we cannot logically explain and probably arises from error or missing information."
   ]
  },
  {
   "cell_type": "code",
   "execution_count": 58,
   "metadata": {},
   "outputs": [
    {
     "data": {
      "text/html": [
       "<div>\n",
       "<style scoped>\n",
       "    .dataframe tbody tr th:only-of-type {\n",
       "        vertical-align: middle;\n",
       "    }\n",
       "\n",
       "    .dataframe tbody tr th {\n",
       "        vertical-align: top;\n",
       "    }\n",
       "\n",
       "    .dataframe thead th {\n",
       "        text-align: right;\n",
       "    }\n",
       "</style>\n",
       "<table border=\"1\" class=\"dataframe\">\n",
       "  <thead>\n",
       "    <tr style=\"text-align: right;\">\n",
       "      <th></th>\n",
       "      <th>GENBANK_REFERENCE</th>\n",
       "      <th>CATALOGUE_NAME</th>\n",
       "      <th>CATALOGUE_VERSION</th>\n",
       "      <th>CATALOGUE_GRAMMAR</th>\n",
       "      <th>PREDICTION_VALUES</th>\n",
       "      <th>DRUG</th>\n",
       "      <th>MUTATION</th>\n",
       "      <th>PREDICTION</th>\n",
       "      <th>SOURCE</th>\n",
       "      <th>EVIDENCE</th>\n",
       "      <th>OTHER</th>\n",
       "    </tr>\n",
       "  </thead>\n",
       "  <tbody>\n",
       "    <tr>\n",
       "      <th>0</th>\n",
       "      <td>demo_gene</td>\n",
       "      <td>demo_fisher</td>\n",
       "      <td>0.1.1</td>\n",
       "      <td>GARC1</td>\n",
       "      <td>RUS</td>\n",
       "      <td>eg</td>\n",
       "      <td>gene@A2S</td>\n",
       "      <td>S</td>\n",
       "      <td>{}</td>\n",
       "      <td>[{\"proportion\": 0.0, \"confidence\": [0.0, 0.015...</td>\n",
       "      <td>{}</td>\n",
       "    </tr>\n",
       "    <tr>\n",
       "      <th>1</th>\n",
       "      <td>demo_gene</td>\n",
       "      <td>demo_fisher</td>\n",
       "      <td>0.1.1</td>\n",
       "      <td>GARC1</td>\n",
       "      <td>RUS</td>\n",
       "      <td>eg</td>\n",
       "      <td>gene@A3S</td>\n",
       "      <td>S</td>\n",
       "      <td>{}</td>\n",
       "      <td>[{\"proportion\": 0.3333333333333333, \"confidenc...</td>\n",
       "      <td>{}</td>\n",
       "    </tr>\n",
       "    <tr>\n",
       "      <th>2</th>\n",
       "      <td>demo_gene</td>\n",
       "      <td>demo_fisher</td>\n",
       "      <td>0.1.1</td>\n",
       "      <td>GARC1</td>\n",
       "      <td>RUS</td>\n",
       "      <td>eg</td>\n",
       "      <td>gene@A1S</td>\n",
       "      <td>U</td>\n",
       "      <td>{}</td>\n",
       "      <td>[{\"proportion\": 0.5, \"confidence\": [0.45574636...</td>\n",
       "      <td>{}</td>\n",
       "    </tr>\n",
       "    <tr>\n",
       "      <th>3</th>\n",
       "      <td>demo_gene</td>\n",
       "      <td>demo_fisher</td>\n",
       "      <td>0.1.1</td>\n",
       "      <td>GARC1</td>\n",
       "      <td>RUS</td>\n",
       "      <td>eg</td>\n",
       "      <td>gene@*=</td>\n",
       "      <td>S</td>\n",
       "      <td>{}</td>\n",
       "      <td>{\"default_rule\": \"True\"}</td>\n",
       "      <td>{}</td>\n",
       "    </tr>\n",
       "    <tr>\n",
       "      <th>4</th>\n",
       "      <td>demo_gene</td>\n",
       "      <td>demo_fisher</td>\n",
       "      <td>0.1.1</td>\n",
       "      <td>GARC1</td>\n",
       "      <td>RUS</td>\n",
       "      <td>eg</td>\n",
       "      <td>gene@-*_indel</td>\n",
       "      <td>U</td>\n",
       "      <td>{}</td>\n",
       "      <td>{\"default_rule\": \"True\"}</td>\n",
       "      <td>{}</td>\n",
       "    </tr>\n",
       "    <tr>\n",
       "      <th>5</th>\n",
       "      <td>demo_gene</td>\n",
       "      <td>demo_fisher</td>\n",
       "      <td>0.1.1</td>\n",
       "      <td>GARC1</td>\n",
       "      <td>RUS</td>\n",
       "      <td>eg</td>\n",
       "      <td>gene@*_indel</td>\n",
       "      <td>U</td>\n",
       "      <td>{}</td>\n",
       "      <td>{\"default_rule\": \"True\"}</td>\n",
       "      <td>{}</td>\n",
       "    </tr>\n",
       "    <tr>\n",
       "      <th>6</th>\n",
       "      <td>demo_gene</td>\n",
       "      <td>demo_fisher</td>\n",
       "      <td>0.1.1</td>\n",
       "      <td>GARC1</td>\n",
       "      <td>RUS</td>\n",
       "      <td>eg</td>\n",
       "      <td>gene@-*?</td>\n",
       "      <td>U</td>\n",
       "      <td>{}</td>\n",
       "      <td>{\"default_rule\": \"True\"}</td>\n",
       "      <td>{}</td>\n",
       "    </tr>\n",
       "    <tr>\n",
       "      <th>7</th>\n",
       "      <td>demo_gene</td>\n",
       "      <td>demo_fisher</td>\n",
       "      <td>0.1.1</td>\n",
       "      <td>GARC1</td>\n",
       "      <td>RUS</td>\n",
       "      <td>eg</td>\n",
       "      <td>gene@*?</td>\n",
       "      <td>U</td>\n",
       "      <td>{}</td>\n",
       "      <td>{\"default_rule\": \"True\"}</td>\n",
       "      <td>{}</td>\n",
       "    </tr>\n",
       "    <tr>\n",
       "      <th>8</th>\n",
       "      <td>demo_gene</td>\n",
       "      <td>demo_fisher</td>\n",
       "      <td>0.1.1</td>\n",
       "      <td>GARC1</td>\n",
       "      <td>RUS</td>\n",
       "      <td>eg</td>\n",
       "      <td>gene@del_0.0</td>\n",
       "      <td>U</td>\n",
       "      <td>{}</td>\n",
       "      <td>{\"default_rule\": \"True\"}</td>\n",
       "      <td>{}</td>\n",
       "    </tr>\n",
       "    <tr>\n",
       "      <th>9</th>\n",
       "      <td>demo_gene</td>\n",
       "      <td>demo_fisher</td>\n",
       "      <td>0.1.1</td>\n",
       "      <td>GARC1</td>\n",
       "      <td>RUS</td>\n",
       "      <td>eg</td>\n",
       "      <td>placeholder@R1R</td>\n",
       "      <td>R</td>\n",
       "      <td>{}</td>\n",
       "      <td>{}</td>\n",
       "      <td>{}</td>\n",
       "    </tr>\n",
       "  </tbody>\n",
       "</table>\n",
       "</div>"
      ],
      "text/plain": [
       "  GENBANK_REFERENCE CATALOGUE_NAME CATALOGUE_VERSION CATALOGUE_GRAMMAR  \\\n",
       "0         demo_gene    demo_fisher             0.1.1             GARC1   \n",
       "1         demo_gene    demo_fisher             0.1.1             GARC1   \n",
       "2         demo_gene    demo_fisher             0.1.1             GARC1   \n",
       "3         demo_gene    demo_fisher             0.1.1             GARC1   \n",
       "4         demo_gene    demo_fisher             0.1.1             GARC1   \n",
       "5         demo_gene    demo_fisher             0.1.1             GARC1   \n",
       "6         demo_gene    demo_fisher             0.1.1             GARC1   \n",
       "7         demo_gene    demo_fisher             0.1.1             GARC1   \n",
       "8         demo_gene    demo_fisher             0.1.1             GARC1   \n",
       "9         demo_gene    demo_fisher             0.1.1             GARC1   \n",
       "\n",
       "  PREDICTION_VALUES DRUG         MUTATION PREDICTION SOURCE  \\\n",
       "0               RUS   eg         gene@A2S          S     {}   \n",
       "1               RUS   eg         gene@A3S          S     {}   \n",
       "2               RUS   eg         gene@A1S          U     {}   \n",
       "3               RUS   eg          gene@*=          S     {}   \n",
       "4               RUS   eg    gene@-*_indel          U     {}   \n",
       "5               RUS   eg     gene@*_indel          U     {}   \n",
       "6               RUS   eg         gene@-*?          U     {}   \n",
       "7               RUS   eg          gene@*?          U     {}   \n",
       "8               RUS   eg     gene@del_0.0          U     {}   \n",
       "9               RUS   eg  placeholder@R1R          R     {}   \n",
       "\n",
       "                                            EVIDENCE OTHER  \n",
       "0  [{\"proportion\": 0.0, \"confidence\": [0.0, 0.015...    {}  \n",
       "1  [{\"proportion\": 0.3333333333333333, \"confidenc...    {}  \n",
       "2  [{\"proportion\": 0.5, \"confidence\": [0.45574636...    {}  \n",
       "3                           {\"default_rule\": \"True\"}    {}  \n",
       "4                           {\"default_rule\": \"True\"}    {}  \n",
       "5                           {\"default_rule\": \"True\"}    {}  \n",
       "6                           {\"default_rule\": \"True\"}    {}  \n",
       "7                           {\"default_rule\": \"True\"}    {}  \n",
       "8                           {\"default_rule\": \"True\"}    {}  \n",
       "9                                                 {}    {}  "
      ]
     },
     "execution_count": 58,
     "metadata": {},
     "output_type": "execute_result"
    }
   ],
   "source": [
    "#run a Fisher test at 10% 2-tailed confidence level (p=0.1) - notice the S classification in the second row (a crazy p-value, I realise - for demonstration). \n",
    "catalogue = BuildCatalogue(samples=samples, mutations=mutations, test='Fisher', p=0.1)\n",
    "catalogue.build_piezo(genbank_ref='demo_gene', catalogue_name='demo_fisher', version='0.1.1', drug='eg', wildcards='../data/demo_wildcards.json')"
   ]
  },
  {
   "cell_type": "markdown",
   "metadata": {},
   "source": [
    " This is particularly powerful if a meaningful background rate can actually be calculated - ie one that represents sample phenotyping error + labelling error + unexplainable resistance mechanisms etc.\n",
    "\n",
    " However, in practise often they don't actually represent anything, and an assumed error rate is needed.\n",
    "\n",
    " Furthemore, clean and accurate datasets for drugs with well-defined resistance mechanisms will have very low background rates, which when using a Fisher's test can lead to Resistant classifications at very low proportions (like 5%). This can be unhelpful, and there are 2 ways to overcome this. Firstly, one can raise the p-value to increase statistical stringency, or one can use a binomial test with a higher, defined background."
   ]
  },
  {
   "cell_type": "markdown",
   "metadata": {},
   "source": [
    "## Seeding"
   ]
  },
  {
   "cell_type": "markdown",
   "metadata": {},
   "source": [
    "A number of genes contain phylogeneitc, neutral mutations which have persisted for a considerable length of time and are largely assumed to not influence the resistant phenotype (e.g: https://genomemedicine.biomedcentral.com/articles/10.1186/s13073-020-00726-5).\n",
    "\n",
    "Due to the high prevelance of these mutations, and the fact the algorithm uses variants that occur in isolation to search for resistance-drivers, they ultimately just add noise.\n",
    "\n",
    "Therefore, catomatic allows for seeding, whereby pre-defined neutral variants can be added prior to running the algorithm:"
   ]
  },
  {
   "cell_type": "code",
   "execution_count": 59,
   "metadata": {},
   "outputs": [
    {
     "data": {
      "text/plain": [
       "{'gene@A5D': {'pred': 'S', 'evid': 'seeded'},\n",
       " 'gene@A6T': {'pred': 'S', 'evid': 'seeded'},\n",
       " 'gene@A2S': {'pred': 'S',\n",
       "  'evid': ({'proportion': 0.0,\n",
       "    'confidence': (0.0, 0.7934506856227626),\n",
       "    'contingency': [[0, 1], [3, 1]]},)},\n",
       " 'gene@A1S': {'pred': 'U',\n",
       "  'evid': ({'proportion': 0.5,\n",
       "    'confidence': (0.09453120573423071, 0.9054687942657693),\n",
       "    'contingency': [[1, 1], [3, 2]]},)},\n",
       " 'gene@A3S': {'pred': 'U',\n",
       "  'evid': ({'proportion': 0.3333333333333333,\n",
       "    'confidence': (0.061491944720396215, 0.7923403991979523),\n",
       "    'contingency': [[1, 2], [3, 2]]},)}}"
      ]
     },
     "execution_count": 59,
     "metadata": {},
     "output_type": "execute_result"
    }
   ],
   "source": [
    "#seed the method with gene@A5D and gene@A6T\n",
    "catalogue = BuildCatalogue(samples=samples, mutations=mutations, seed=['gene@A5D', 'gene@A6T'])\n",
    "catalogue.return_catalogue()"
   ]
  },
  {
   "cell_type": "markdown",
   "metadata": {},
   "source": [
    "## Fraction Read Support"
   ]
  },
  {
   "cell_type": "markdown",
   "metadata": {},
   "source": [
    "Post-sequencing bioinformatics pipelines often contain steps to reduce sequencing error. One such step implements a filter for the fraction of genetic reads that support a particular variant call at that position. \n",
    "\n",
    "However, certain genes can display heterogenous alleles which, should they contain a resistant mutation, can outcompete majority populations under the selection pressure of drug administration, regardless of how few observed reads support that allele. \n",
    "\n",
    "Catomatic therefore supports FRS thresholding, whereby only variants with read support above a user-supplied threshold are considered:"
   ]
  },
  {
   "cell_type": "code",
   "execution_count": 60,
   "metadata": {},
   "outputs": [
    {
     "data": {
      "text/html": [
       "<div>\n",
       "<style scoped>\n",
       "    .dataframe tbody tr th:only-of-type {\n",
       "        vertical-align: middle;\n",
       "    }\n",
       "\n",
       "    .dataframe tbody tr th {\n",
       "        vertical-align: top;\n",
       "    }\n",
       "\n",
       "    .dataframe thead th {\n",
       "        text-align: right;\n",
       "    }\n",
       "</style>\n",
       "<table border=\"1\" class=\"dataframe\">\n",
       "  <thead>\n",
       "    <tr style=\"text-align: right;\">\n",
       "      <th></th>\n",
       "      <th>GENBANK_REFERENCE</th>\n",
       "      <th>CATALOGUE_NAME</th>\n",
       "      <th>CATALOGUE_VERSION</th>\n",
       "      <th>CATALOGUE_GRAMMAR</th>\n",
       "      <th>PREDICTION_VALUES</th>\n",
       "      <th>DRUG</th>\n",
       "      <th>MUTATION</th>\n",
       "      <th>PREDICTION</th>\n",
       "      <th>SOURCE</th>\n",
       "      <th>EVIDENCE</th>\n",
       "      <th>OTHER</th>\n",
       "    </tr>\n",
       "  </thead>\n",
       "  <tbody>\n",
       "    <tr>\n",
       "      <th>0</th>\n",
       "      <td>demo_gene</td>\n",
       "      <td>demo_binomial</td>\n",
       "      <td>0.1.1</td>\n",
       "      <td>GARC1</td>\n",
       "      <td>RUS</td>\n",
       "      <td>eg</td>\n",
       "      <td>gene@A3S</td>\n",
       "      <td>S</td>\n",
       "      <td>{}</td>\n",
       "      <td>[{\"proportion\": 0.0, \"confidence\": [0.0, 0.574...</td>\n",
       "      <td>{}</td>\n",
       "    </tr>\n",
       "    <tr>\n",
       "      <th>1</th>\n",
       "      <td>demo_gene</td>\n",
       "      <td>demo_binomial</td>\n",
       "      <td>0.1.1</td>\n",
       "      <td>GARC1</td>\n",
       "      <td>RUS</td>\n",
       "      <td>eg</td>\n",
       "      <td>gene@*=</td>\n",
       "      <td>S</td>\n",
       "      <td>{}</td>\n",
       "      <td>{\"default_rule\": \"True\"}</td>\n",
       "      <td>{}</td>\n",
       "    </tr>\n",
       "    <tr>\n",
       "      <th>2</th>\n",
       "      <td>demo_gene</td>\n",
       "      <td>demo_binomial</td>\n",
       "      <td>0.1.1</td>\n",
       "      <td>GARC1</td>\n",
       "      <td>RUS</td>\n",
       "      <td>eg</td>\n",
       "      <td>gene@-*_indel</td>\n",
       "      <td>U</td>\n",
       "      <td>{}</td>\n",
       "      <td>{\"default_rule\": \"True\"}</td>\n",
       "      <td>{}</td>\n",
       "    </tr>\n",
       "    <tr>\n",
       "      <th>3</th>\n",
       "      <td>demo_gene</td>\n",
       "      <td>demo_binomial</td>\n",
       "      <td>0.1.1</td>\n",
       "      <td>GARC1</td>\n",
       "      <td>RUS</td>\n",
       "      <td>eg</td>\n",
       "      <td>gene@*_indel</td>\n",
       "      <td>U</td>\n",
       "      <td>{}</td>\n",
       "      <td>{\"default_rule\": \"True\"}</td>\n",
       "      <td>{}</td>\n",
       "    </tr>\n",
       "    <tr>\n",
       "      <th>4</th>\n",
       "      <td>demo_gene</td>\n",
       "      <td>demo_binomial</td>\n",
       "      <td>0.1.1</td>\n",
       "      <td>GARC1</td>\n",
       "      <td>RUS</td>\n",
       "      <td>eg</td>\n",
       "      <td>gene@-*?</td>\n",
       "      <td>U</td>\n",
       "      <td>{}</td>\n",
       "      <td>{\"default_rule\": \"True\"}</td>\n",
       "      <td>{}</td>\n",
       "    </tr>\n",
       "    <tr>\n",
       "      <th>5</th>\n",
       "      <td>demo_gene</td>\n",
       "      <td>demo_binomial</td>\n",
       "      <td>0.1.1</td>\n",
       "      <td>GARC1</td>\n",
       "      <td>RUS</td>\n",
       "      <td>eg</td>\n",
       "      <td>gene@*?</td>\n",
       "      <td>U</td>\n",
       "      <td>{}</td>\n",
       "      <td>{\"default_rule\": \"True\"}</td>\n",
       "      <td>{}</td>\n",
       "    </tr>\n",
       "    <tr>\n",
       "      <th>6</th>\n",
       "      <td>demo_gene</td>\n",
       "      <td>demo_binomial</td>\n",
       "      <td>0.1.1</td>\n",
       "      <td>GARC1</td>\n",
       "      <td>RUS</td>\n",
       "      <td>eg</td>\n",
       "      <td>gene@del_0.0</td>\n",
       "      <td>U</td>\n",
       "      <td>{}</td>\n",
       "      <td>{\"default_rule\": \"True\"}</td>\n",
       "      <td>{}</td>\n",
       "    </tr>\n",
       "    <tr>\n",
       "      <th>7</th>\n",
       "      <td>demo_gene</td>\n",
       "      <td>demo_binomial</td>\n",
       "      <td>0.1.1</td>\n",
       "      <td>GARC1</td>\n",
       "      <td>RUS</td>\n",
       "      <td>eg</td>\n",
       "      <td>placeholder@R1R</td>\n",
       "      <td>R</td>\n",
       "      <td>{}</td>\n",
       "      <td>{}</td>\n",
       "      <td>{}</td>\n",
       "    </tr>\n",
       "  </tbody>\n",
       "</table>\n",
       "</div>"
      ],
      "text/plain": [
       "  GENBANK_REFERENCE CATALOGUE_NAME CATALOGUE_VERSION CATALOGUE_GRAMMAR  \\\n",
       "0         demo_gene  demo_binomial             0.1.1             GARC1   \n",
       "1         demo_gene  demo_binomial             0.1.1             GARC1   \n",
       "2         demo_gene  demo_binomial             0.1.1             GARC1   \n",
       "3         demo_gene  demo_binomial             0.1.1             GARC1   \n",
       "4         demo_gene  demo_binomial             0.1.1             GARC1   \n",
       "5         demo_gene  demo_binomial             0.1.1             GARC1   \n",
       "6         demo_gene  demo_binomial             0.1.1             GARC1   \n",
       "7         demo_gene  demo_binomial             0.1.1             GARC1   \n",
       "\n",
       "  PREDICTION_VALUES DRUG         MUTATION PREDICTION SOURCE  \\\n",
       "0               RUS   eg         gene@A3S          S     {}   \n",
       "1               RUS   eg          gene@*=          S     {}   \n",
       "2               RUS   eg    gene@-*_indel          U     {}   \n",
       "3               RUS   eg     gene@*_indel          U     {}   \n",
       "4               RUS   eg         gene@-*?          U     {}   \n",
       "5               RUS   eg          gene@*?          U     {}   \n",
       "6               RUS   eg     gene@del_0.0          U     {}   \n",
       "7               RUS   eg  placeholder@R1R          R     {}   \n",
       "\n",
       "                                            EVIDENCE OTHER  \n",
       "0  [{\"proportion\": 0.0, \"confidence\": [0.0, 0.574...    {}  \n",
       "1                           {\"default_rule\": \"True\"}    {}  \n",
       "2                           {\"default_rule\": \"True\"}    {}  \n",
       "3                           {\"default_rule\": \"True\"}    {}  \n",
       "4                           {\"default_rule\": \"True\"}    {}  \n",
       "5                           {\"default_rule\": \"True\"}    {}  \n",
       "6                           {\"default_rule\": \"True\"}    {}  \n",
       "7                                                 {}    {}  "
      ]
     },
     "execution_count": 60,
     "metadata": {},
     "output_type": "execute_result"
    }
   ],
   "source": [
    "#Build a catalogue for variants which contained over 90% read support - ie, genetic homogeneity - notice only gene@A3S is catalogued\n",
    "catalogue = BuildCatalogue(samples=samples, mutations=mutations, test='Binomial', background=0.05, p=0.9, FRS=0.9)\n",
    "catalogue.build_piezo(genbank_ref='demo_gene', catalogue_name='demo_binomial', version='0.1.1', drug='eg', wildcards='../data/demo_wildcards.json')"
   ]
  },
  {
   "cell_type": "markdown",
   "metadata": {},
   "source": [
    "## Strict S variant Unlocking"
   ]
  },
  {
   "cell_type": "markdown",
   "metadata": {},
   "source": [
    "If one were to phenotype based only on statistically significant resistance proportions, one should specify `strict_unlock=True`. This setting constrains the susceptible variant search step to require a calculated p-value less than the specified threshold.\n",
    "\n",
    "However, in practice, many variants from clinical studies are observed infrequently. If `strict_unlock=True` is set, all singletons and many low-frequency variants would be discarded due to frequentist statistics requiring a minimum number of observations to achieve sufficient statistical power. This requirement ensures that the statistical tests are robust and the results are reliable, but it also means that variants with low observation numbers are often excluded from analysis.\n",
    "\n",
    "One may, therefore, decide to use a looser definition of 'difference' and accept calling variants susceptible if there is no observed evidence of resistance and no statistical evidence of resistance. Essentially, setting `strict_unlock=False` allows homogenous susceptible (S) variants to be called susceptible (S), regardless of the total number of variant observations."
   ]
  },
  {
   "cell_type": "code",
   "execution_count": 61,
   "metadata": {},
   "outputs": [
    {
     "data": {
      "text/plain": [
       "{'gene@A2S': {'pred': 'S',\n",
       "  'evid': ({'proportion': 0.0,\n",
       "    'confidence': (0.0, 0.7934506856227626),\n",
       "    'p_value': 0.4000000000000001,\n",
       "    'contingency': [[0, 1], [3, 1]]},)},\n",
       " 'gene@A1S': {'pred': 'U',\n",
       "  'evid': ({'proportion': 0.5,\n",
       "    'confidence': (0.09453120573423071, 0.9054687942657693),\n",
       "    'p_value': 1.0,\n",
       "    'contingency': [[1, 1], [3, 2]]},)},\n",
       " 'gene@A3S': {'pred': 'U',\n",
       "  'evid': ({'proportion': 0.3333333333333333,\n",
       "    'confidence': (0.061491944720396215, 0.7923403991979523),\n",
       "    'p_value': 1.0,\n",
       "    'contingency': [[1, 2], [3, 2]]},)}}"
      ]
     },
     "execution_count": 61,
     "metadata": {},
     "output_type": "execute_result"
    }
   ],
   "source": [
    "#notice gene@A2S is called susceptible....\n",
    "catalogue = BuildCatalogue(samples=samples, mutations=mutations, test='Fisher', strict_unlock=False)\n",
    "catalogue.return_catalogue()"
   ]
  },
  {
   "cell_type": "code",
   "execution_count": 62,
   "metadata": {},
   "outputs": [
    {
     "data": {
      "text/plain": [
       "{'gene@A1S': {'pred': 'U',\n",
       "  'evid': ({'proportion': 0.5,\n",
       "    'confidence': (0.09453120573423071, 0.9054687942657693),\n",
       "    'p_value': 1.0,\n",
       "    'contingency': [[1, 1], [3, 1]]},)},\n",
       " 'gene@A2S': {'pred': 'U',\n",
       "  'evid': ({'proportion': 0.0,\n",
       "    'confidence': (0.0, 0.7934506856227626),\n",
       "    'p_value': 0.4000000000000001,\n",
       "    'contingency': [[0, 1], [3, 1]]},)},\n",
       " 'gene@A3S': {'pred': 'U',\n",
       "  'evid': ({'proportion': 0.3333333333333333,\n",
       "    'confidence': (0.061491944720396215, 0.7923403991979523),\n",
       "    'p_value': 0.48571428571428565,\n",
       "    'contingency': [[1, 2], [3, 1]]},)}}"
      ]
     },
     "execution_count": 62,
     "metadata": {},
     "output_type": "execute_result"
    }
   ],
   "source": [
    "#... but now does not pass the statistical requirement for phenotyping\n",
    "catalogue = BuildCatalogue(samples=samples, mutations=mutations, test='Fisher', strict_unlock=True)\n",
    "catalogue.return_catalogue()"
   ]
  },
  {
   "cell_type": "markdown",
   "metadata": {},
   "source": [
    "## post-hoc updates"
   ]
  },
  {
   "cell_type": "markdown",
   "metadata": {},
   "source": [
    "Should one wish to overried a variant call in the catalogue, it can be done by simply supplying a key-value pair of the mutation:phenotype, which replace the current row in the catalogue.\n",
    "\n",
    "This level of blatent expert-intervention is old-fashioned and strongly discouraged, and could probably be avoided via tuning the various parameters above, and certainly warrants an investigation as to why that variant is being phenotyped incorreclty (which can be partly deduced by the evidence logged in that row).\n",
    "\n"
   ]
  },
  {
   "cell_type": "code",
   "execution_count": 63,
   "metadata": {},
   "outputs": [
    {
     "data": {
      "text/plain": [
       "{'gene@A2S': {'pred': 'S',\n",
       "  'evid': ({'proportion': 0.0,\n",
       "    'confidence': (0.0, 0.7934506856227626),\n",
       "    'contingency': [[0, 1], [3, 1]]},)},\n",
       " 'gene@A1S': {'pred': 'U',\n",
       "  'evid': ({'proportion': 0.5,\n",
       "    'confidence': (0.09453120573423071, 0.9054687942657693),\n",
       "    'contingency': [[1, 1], [3, 2]]},)},\n",
       " 'gene@A3S': {'pred': 'U',\n",
       "  'evid': ({'proportion': 0.3333333333333333,\n",
       "    'confidence': (0.061491944720396215, 0.7923403991979523),\n",
       "    'contingency': [[1, 2], [3, 2]]},)}}"
      ]
     },
     "execution_count": 63,
     "metadata": {},
     "output_type": "execute_result"
    }
   ],
   "source": [
    "catalogue = BuildCatalogue(samples=samples, mutations=mutations)\n",
    "catalogue.return_catalogue()"
   ]
  },
  {
   "cell_type": "code",
   "execution_count": 64,
   "metadata": {},
   "outputs": [
    {
     "data": {
      "text/plain": [
       "{'gene@A1S': {'pred': 'U',\n",
       "  'evid': ({'proportion': 0.5,\n",
       "    'confidence': (0.09453120573423071, 0.9054687942657693),\n",
       "    'contingency': [[1, 1], [3, 2]]},)},\n",
       " 'gene@A3S': {'pred': 'U',\n",
       "  'evid': ({'proportion': 0.3333333333333333,\n",
       "    'confidence': (0.061491944720396215, 0.7923403991979523),\n",
       "    'contingency': [[1, 2], [3, 2]]},)},\n",
       " 'gene@A2S': {'pred': 'R', 'evid': {}}}"
      ]
     },
     "execution_count": 64,
     "metadata": {},
     "output_type": "execute_result"
    }
   ],
   "source": [
    "catalogue.update({'gene@A2S':'R'})\n",
    "catalogue.return_catalogue()"
   ]
  },
  {
   "cell_type": "markdown",
   "metadata": {},
   "source": [
    "One can also add wildcard rules to the catalogue - for example, if there is evidence that all frameshift mutations are resistant (as is sometimes the case in non-essential genes).\n",
    "\n",
    "Simply appending it would result in a piezo-facilitated hierarchy during the piezo predictions, whereby more specific mutation definitions have priority over wildcard rules. Therefore, one could add the rule and any specific mutations that do not agree will be called seperately."
   ]
  },
  {
   "cell_type": "code",
   "execution_count": 65,
   "metadata": {},
   "outputs": [
    {
     "data": {
      "text/plain": [
       "{'gene@A1S': {'pred': 'U',\n",
       "  'evid': ({'proportion': 0.5,\n",
       "    'confidence': (0.09453120573423071, 0.9054687942657693),\n",
       "    'contingency': [[1, 1], [3, 2]]},)},\n",
       " 'gene@A3S': {'pred': 'U',\n",
       "  'evid': ({'proportion': 0.3333333333333333,\n",
       "    'confidence': (0.061491944720396215, 0.7923403991979523),\n",
       "    'contingency': [[1, 2], [3, 2]]},)},\n",
       " 'gene@A2S': {'pred': 'R', 'evid': {}},\n",
       " 'gene@*?': {'pred': 'R', 'evid': {}}}"
      ]
     },
     "execution_count": 65,
     "metadata": {},
     "output_type": "execute_result"
    }
   ],
   "source": [
    "#notice the rule is simply appended, and will have lower priority than the more specific rows above\n",
    "catalogue.update({'gene@*?':'R'})\n",
    "catalogue.return_catalogue()"
   ]
  },
  {
   "cell_type": "markdown",
   "metadata": {},
   "source": [
    "Alternatively, one can specify `replace=True`, which will find all variants that fall under that rule and remove them before appending the rule. Note, because the search mechanism uses piezo, a set of wildcards have to be supplied (even though they won't be added to the catalogue.)"
   ]
  },
  {
   "cell_type": "code",
   "execution_count": 66,
   "metadata": {},
   "outputs": [
    {
     "data": {
      "text/plain": [
       "{'gene@*?': {'pred': 'R', 'evid': {}}}"
      ]
     },
     "execution_count": 66,
     "metadata": {},
     "output_type": "execute_result"
    }
   ],
   "source": [
    "#add a wildcard rule with replacement - all example variants fall under this rule, so are replaced\n",
    "catalogue = BuildCatalogue(samples=samples, mutations=mutations)\n",
    "catalogue.update({'gene@*?':'R'}, replace=True, wildcards='../data/demo_wildcards.json')\n",
    "catalogue.return_catalogue()"
   ]
  },
  {
   "cell_type": "code",
   "execution_count": null,
   "metadata": {},
   "outputs": [],
   "source": []
  },
  {
   "cell_type": "markdown",
   "metadata": {},
   "source": [
    "# Ecoff Generator"
   ]
  },
  {
   "cell_type": "code",
   "execution_count": 7,
   "metadata": {},
   "outputs": [
    {
     "name": "stdout",
     "output_type": "stream",
     "text": [
      "The autoreload extension is already loaded. To reload it, use:\n",
      "  %reload_ext autoreload\n"
     ]
    }
   ],
   "source": [
    "import piezo\n",
    "import pandas as pd\n",
    "from catomatic.CatalogueBuilder import BuildCatalogue\n",
    "from catomatic.Ecoff import GenerateEcoff\n",
    "import utils\n",
    "\n",
    "%load_ext autoreload\n",
    "%autoreload 2"
   ]
  },
  {
   "cell_type": "code",
   "execution_count": 8,
   "metadata": {},
   "outputs": [],
   "source": [
    "def filter_multiple_phenos(group):\n",
    "    #for samples with more than one phenotypes, picks one\n",
    "    if len(group) == 1:\n",
    "        return group\n",
    "    prioritized_group = (\n",
    "        group[group['PHENOTYPE'] == \"R\"] if \"R\" in group['PHENOTYPE'].values else group\n",
    "    )\n",
    "    with_mic = prioritized_group.dropna(subset=['METHOD_MIC'])\n",
    "    return with_mic.iloc[0:1] if not with_mic.empty else prioritized_group.iloc[0:1]"
   ]
  },
  {
   "cell_type": "code",
   "execution_count": null,
   "metadata": {},
   "outputs": [],
   "source": []
  },
  {
   "cell_type": "markdown",
   "metadata": {},
   "source": [
    "### Data Prep\n",
    "\n",
    "We need enough samples to generate a distribution for the demo, but these tables are not in the repo - however there are few enough steps that one should be able to get the gist quite easily.\n",
    "\n",
    "Essentially, we import phenotypes and mutations tables, and supply them to `catomatic.GenerateEcoff`, which under the hood does a left merge on sample id (which will preserve wild type samples). A curve is then fitted to the sample MICs (assumed gaussian), and the 99th percentile is taken to be the ECOFF."
   ]
  },
  {
   "cell_type": "code",
   "execution_count": 9,
   "metadata": {},
   "outputs": [
    {
     "name": "stderr",
     "output_type": "stream",
     "text": [
      "/var/folders/s5/pshvb2093574r5hqnwcy6klw0000gn/T/ipykernel_43463/1769003969.py:8: DeprecationWarning: DataFrameGroupBy.apply operated on the grouping columns. This behavior is deprecated, and in a future version of pandas the grouping columns will be excluded from the operation. Either pass `include_groups=False` to exclude the groupings or explicitly select the grouping columns after groupby to silence this warning.\n",
      "  phenotypes = phenotypes.groupby(\"UNIQUEID\").apply(filter_multiple_phenos).reset_index(drop=True)\n"
     ]
    }
   ],
   "source": [
    "mutations = pd.read_csv('../data/ignore/MUTATIONS_BDQ.csv.gz').reset_index()\n",
    "genomes = pd.read_pickle('../data/ignore/GENOMES.pkl.gz').reset_index()\n",
    "phenotypes = pd.read_csv('../data/ignore/DST_MEASUREMENTS_BDQ_CRYPTIC.csv.gz').reset_index()\n",
    "\n",
    "phenotypes= phenotypes[phenotypes.METHOD_3.isin(['UKMYC5','UKMYC6'])]\n",
    "phenotypes = phenotypes[phenotypes.QUALITY=='HIGH']\n",
    "phenotypes = phenotypes.groupby(\"UNIQUEID\").apply(filter_multiple_phenos).reset_index(drop=True)\n",
    "\n",
    "samples = pd.merge(phenotypes, genomes, how='inner', on=['UNIQUEID'])[[\"UNIQUEID\", \"DRUG\", \"SOURCE\", \"METHOD_3\", \"PHENOTYPE\", \"METHOD_MIC\", \"METHOD_2\"]].rename(columns={'METHOD_MIC':'MIC'})\n",
    "\n",
    "mutations = mutations[~mutations.GENE.isin(['mmpL5', 'mmpS5'])]"
   ]
  },
  {
   "cell_type": "markdown",
   "metadata": {},
   "source": [
    "Feed the phenotypes and mutations table to the ecoff generator. Can use censored data or uncesnored (but if uncensored, need to provide a number of assumed dilutions on either tail)."
   ]
  },
  {
   "cell_type": "code",
   "execution_count": 10,
   "metadata": {},
   "outputs": [
    {
     "name": "stdout",
     "output_type": "stream",
     "text": [
      "ECOFF: 0.1201333269644187\n"
     ]
    }
   ],
   "source": [
    "init_obj = GenerateEcoff(samples, mutations, censored=True, tail_dilutions=3)\n",
    "ecoff, z_99, mu, sigma_hat, model = init_obj.generate()\n",
    "print ('ECOFF:', ecoff)"
   ]
  },
  {
   "cell_type": "code",
   "execution_count": 11,
   "metadata": {},
   "outputs": [
    {
     "name": "stderr",
     "output_type": "stream",
     "text": [
      "/Users/dylanadlard/Documents/Oxford/PhD/Projects/catomatic/examples/utils.py:39: RuntimeWarning: divide by zero encountered in scalar divide\n",
      "  wt_densities = [count / (total_wt * width) for count, width in zip(wt_mic_counts, wt_widths)]\n"
     ]
    },
    {
     "data": {
      "image/png": "[encoded data removed]",
      "text/plain": [
       "<Figure size 600x400 with 1 Axes>"
      ]
     },
     "metadata": {},
     "output_type": "display_data"
    }
   ],
   "source": [
    "y_low, y_high = init_obj.define_intervals(init_obj.df)\n",
    "utils.plot_ecoff_distributions(y_low, y_high, mu, sigma_hat, z_99, -10, 0)"
   ]
  },
  {
   "cell_type": "markdown",
   "metadata": {},
   "source": []
  }
 ],
 "metadata": {
  "kernelspec": {
   "display_name": "catomatic_release",
   "language": "python",
   "name": "python3"
  },
  "language_info": {
   "codemirror_mode": {
    "name": "ipython",
    "version": 3
   },
   "file_extension": ".py",
   "mimetype": "text/x-python",
   "name": "python",
   "nbconvert_exporter": "python",
   "pygments_lexer": "ipython3",
   "version": "3.13.0"
  }
 },
 "nbformat": 4,
 "nbformat_minor": 2
}
